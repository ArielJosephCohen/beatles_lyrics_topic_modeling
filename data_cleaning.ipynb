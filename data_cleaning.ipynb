{
 "cells": [
  {
   "cell_type": "code",
   "execution_count": 73,
   "metadata": {},
   "outputs": [],
   "source": [
    "import warnings\n",
    "warnings.filterwarnings('ignore')\n",
    "import pandas as pd\n",
    "import numpy as np\n",
    "from scipy import stats\n",
    "import seaborn as sns\n",
    "from sklearn.preprocessing import *\n",
    "import matplotlib.pyplot as plt\n",
    "import nltk\n",
    "from nltk.corpus import stopwords\n",
    "import pickle\n",
    "import operator\n",
    "from wordcloud import WordCloud\n",
    "from PIL import Image\n",
    "import string"
   ]
  },
  {
   "cell_type": "code",
   "execution_count": 2,
   "metadata": {},
   "outputs": [],
   "source": [
    "eng_stop=stopwords.words('english')"
   ]
  },
  {
   "cell_type": "code",
   "execution_count": 3,
   "metadata": {},
   "outputs": [
    {
     "data": {
      "text/plain": [
       "['i', 'me', 'my', 'myself', 'we']"
      ]
     },
     "execution_count": 3,
     "metadata": {},
     "output_type": "execute_result"
    }
   ],
   "source": [
    "eng_stop[0:5]"
   ]
  },
  {
   "cell_type": "code",
   "execution_count": 4,
   "metadata": {},
   "outputs": [],
   "source": [
    "df=pd.read_pickle('song_lyric_df.pkl')"
   ]
  },
  {
   "cell_type": "code",
   "execution_count": 5,
   "metadata": {},
   "outputs": [
    {
     "data": {
      "text/html": [
       "<div>\n",
       "<style scoped>\n",
       "    .dataframe tbody tr th:only-of-type {\n",
       "        vertical-align: middle;\n",
       "    }\n",
       "\n",
       "    .dataframe tbody tr th {\n",
       "        vertical-align: top;\n",
       "    }\n",
       "\n",
       "    .dataframe thead th {\n",
       "        text-align: right;\n",
       "    }\n",
       "</style>\n",
       "<table border=\"1\" class=\"dataframe\">\n",
       "  <thead>\n",
       "    <tr style=\"text-align: right;\">\n",
       "      <th></th>\n",
       "      <th>song</th>\n",
       "      <th>lyrics</th>\n",
       "    </tr>\n",
       "  </thead>\n",
       "  <tbody>\n",
       "    <tr>\n",
       "      <th>0</th>\n",
       "      <td>1822</td>\n",
       "      <td>[[Speech], John: This is a Dorsey Burnette num...</td>\n",
       "    </tr>\n",
       "    <tr>\n",
       "      <th>1</th>\n",
       "      <td>a day in the life</td>\n",
       "      <td>[I read the news today oh, boy, About a lucky ...</td>\n",
       "    </tr>\n",
       "    <tr>\n",
       "      <th>2</th>\n",
       "      <td>a hard days night</td>\n",
       "      <td>[It's been a hard day's night, and I've been w...</td>\n",
       "    </tr>\n",
       "    <tr>\n",
       "      <th>3</th>\n",
       "      <td>a little rhyme</td>\n",
       "      <td>[[Speech], Rodney Burke: Now, for the final nu...</td>\n",
       "    </tr>\n",
       "    <tr>\n",
       "      <th>4</th>\n",
       "      <td>a shot of rhythm blues</td>\n",
       "      <td>[Well, if your hands start a-clapping, And you...</td>\n",
       "    </tr>\n",
       "  </tbody>\n",
       "</table>\n",
       "</div>"
      ],
      "text/plain": [
       "                     song                                             lyrics\n",
       "0                    1822  [[Speech], John: This is a Dorsey Burnette num...\n",
       "1       a day in the life  [I read the news today oh, boy, About a lucky ...\n",
       "2       a hard days night  [It's been a hard day's night, and I've been w...\n",
       "3          a little rhyme  [[Speech], Rodney Burke: Now, for the final nu...\n",
       "4  a shot of rhythm blues  [Well, if your hands start a-clapping, And you..."
      ]
     },
     "execution_count": 5,
     "metadata": {},
     "output_type": "execute_result"
    }
   ],
   "source": [
    "df.head()"
   ]
  },
  {
   "cell_type": "code",
   "execution_count": 6,
   "metadata": {},
   "outputs": [],
   "source": [
    "df['speech_check']=df.lyrics.apply(lambda x: x[0])"
   ]
  },
  {
   "cell_type": "code",
   "execution_count": 7,
   "metadata": {},
   "outputs": [
    {
     "data": {
      "text/html": [
       "<div>\n",
       "<style scoped>\n",
       "    .dataframe tbody tr th:only-of-type {\n",
       "        vertical-align: middle;\n",
       "    }\n",
       "\n",
       "    .dataframe tbody tr th {\n",
       "        vertical-align: top;\n",
       "    }\n",
       "\n",
       "    .dataframe thead th {\n",
       "        text-align: right;\n",
       "    }\n",
       "</style>\n",
       "<table border=\"1\" class=\"dataframe\">\n",
       "  <thead>\n",
       "    <tr style=\"text-align: right;\">\n",
       "      <th></th>\n",
       "      <th>song</th>\n",
       "      <th>lyrics</th>\n",
       "      <th>speech_check</th>\n",
       "    </tr>\n",
       "  </thead>\n",
       "  <tbody>\n",
       "    <tr>\n",
       "      <th>0</th>\n",
       "      <td>1822</td>\n",
       "      <td>[[Speech], John: This is a Dorsey Burnette num...</td>\n",
       "      <td>[Speech]</td>\n",
       "    </tr>\n",
       "    <tr>\n",
       "      <th>1</th>\n",
       "      <td>a day in the life</td>\n",
       "      <td>[I read the news today oh, boy, About a lucky ...</td>\n",
       "      <td>I read the news today oh, boy</td>\n",
       "    </tr>\n",
       "    <tr>\n",
       "      <th>2</th>\n",
       "      <td>a hard days night</td>\n",
       "      <td>[It's been a hard day's night, and I've been w...</td>\n",
       "      <td>It's been a hard day's night, and I've been wo...</td>\n",
       "    </tr>\n",
       "    <tr>\n",
       "      <th>3</th>\n",
       "      <td>a little rhyme</td>\n",
       "      <td>[[Speech], Rodney Burke: Now, for the final nu...</td>\n",
       "      <td>[Speech]</td>\n",
       "    </tr>\n",
       "    <tr>\n",
       "      <th>4</th>\n",
       "      <td>a shot of rhythm blues</td>\n",
       "      <td>[Well, if your hands start a-clapping, And you...</td>\n",
       "      <td>Well, if your hands start a-clapping</td>\n",
       "    </tr>\n",
       "  </tbody>\n",
       "</table>\n",
       "</div>"
      ],
      "text/plain": [
       "                     song                                             lyrics  \\\n",
       "0                    1822  [[Speech], John: This is a Dorsey Burnette num...   \n",
       "1       a day in the life  [I read the news today oh, boy, About a lucky ...   \n",
       "2       a hard days night  [It's been a hard day's night, and I've been w...   \n",
       "3          a little rhyme  [[Speech], Rodney Burke: Now, for the final nu...   \n",
       "4  a shot of rhythm blues  [Well, if your hands start a-clapping, And you...   \n",
       "\n",
       "                                        speech_check  \n",
       "0                                           [Speech]  \n",
       "1                      I read the news today oh, boy  \n",
       "2  It's been a hard day's night, and I've been wo...  \n",
       "3                                           [Speech]  \n",
       "4               Well, if your hands start a-clapping  "
      ]
     },
     "execution_count": 7,
     "metadata": {},
     "output_type": "execute_result"
    }
   ],
   "source": [
    "df.head()"
   ]
  },
  {
   "cell_type": "code",
   "execution_count": 8,
   "metadata": {},
   "outputs": [
    {
     "data": {
      "text/html": [
       "<div>\n",
       "<style scoped>\n",
       "    .dataframe tbody tr th:only-of-type {\n",
       "        vertical-align: middle;\n",
       "    }\n",
       "\n",
       "    .dataframe tbody tr th {\n",
       "        vertical-align: top;\n",
       "    }\n",
       "\n",
       "    .dataframe thead th {\n",
       "        text-align: right;\n",
       "    }\n",
       "</style>\n",
       "<table border=\"1\" class=\"dataframe\">\n",
       "  <thead>\n",
       "    <tr style=\"text-align: right;\">\n",
       "      <th></th>\n",
       "      <th>song</th>\n",
       "      <th>lyrics</th>\n",
       "      <th>speech_check</th>\n",
       "    </tr>\n",
       "  </thead>\n",
       "  <tbody>\n",
       "    <tr>\n",
       "      <th>0</th>\n",
       "      <td>1822</td>\n",
       "      <td>[[Speech], John: This is a Dorsey Burnette num...</td>\n",
       "      <td>[Speech]</td>\n",
       "    </tr>\n",
       "    <tr>\n",
       "      <th>3</th>\n",
       "      <td>a little rhyme</td>\n",
       "      <td>[[Speech], Rodney Burke: Now, for the final nu...</td>\n",
       "      <td>[Speech]</td>\n",
       "    </tr>\n",
       "    <tr>\n",
       "      <th>27</th>\n",
       "      <td>beatle greetings</td>\n",
       "      <td>[[Speech], Ringo: I'm Ringo and I play the dru...</td>\n",
       "      <td>[Speech]</td>\n",
       "    </tr>\n",
       "    <tr>\n",
       "      <th>49</th>\n",
       "      <td>crinsk dee night</td>\n",
       "      <td>[[Speech], Brian Matthew: The next few minutes...</td>\n",
       "      <td>[Speech]</td>\n",
       "    </tr>\n",
       "    <tr>\n",
       "      <th>54</th>\n",
       "      <td>dear wack</td>\n",
       "      <td>[[Speech], Brian Matthew: But despite the fact...</td>\n",
       "      <td>[Speech]</td>\n",
       "    </tr>\n",
       "    <tr>\n",
       "      <th>94</th>\n",
       "      <td>have a banana</td>\n",
       "      <td>[[Speech], Brian Matthew: Is that it? Is that ...</td>\n",
       "      <td>[Speech]</td>\n",
       "    </tr>\n",
       "    <tr>\n",
       "      <th>153</th>\n",
       "      <td>just a rumour</td>\n",
       "      <td>[[Speech], Alan Freeman: George, is it true th...</td>\n",
       "      <td>[Speech]</td>\n",
       "    </tr>\n",
       "    <tr>\n",
       "      <th>169</th>\n",
       "      <td>love these goon shows</td>\n",
       "      <td>[[Speech], Lee Peters: But now, John has his w...</td>\n",
       "      <td>[Speech]</td>\n",
       "    </tr>\n",
       "  </tbody>\n",
       "</table>\n",
       "</div>"
      ],
      "text/plain": [
       "                      song                                             lyrics  \\\n",
       "0                     1822  [[Speech], John: This is a Dorsey Burnette num...   \n",
       "3           a little rhyme  [[Speech], Rodney Burke: Now, for the final nu...   \n",
       "27        beatle greetings  [[Speech], Ringo: I'm Ringo and I play the dru...   \n",
       "49        crinsk dee night  [[Speech], Brian Matthew: The next few minutes...   \n",
       "54               dear wack  [[Speech], Brian Matthew: But despite the fact...   \n",
       "94           have a banana  [[Speech], Brian Matthew: Is that it? Is that ...   \n",
       "153          just a rumour  [[Speech], Alan Freeman: George, is it true th...   \n",
       "169  love these goon shows  [[Speech], Lee Peters: But now, John has his w...   \n",
       "\n",
       "    speech_check  \n",
       "0       [Speech]  \n",
       "3       [Speech]  \n",
       "27      [Speech]  \n",
       "49      [Speech]  \n",
       "54      [Speech]  \n",
       "94      [Speech]  \n",
       "153     [Speech]  \n",
       "169     [Speech]  "
      ]
     },
     "execution_count": 8,
     "metadata": {},
     "output_type": "execute_result"
    }
   ],
   "source": [
    "df[df.speech_check=='[Speech]']"
   ]
  },
  {
   "cell_type": "code",
   "execution_count": 9,
   "metadata": {},
   "outputs": [
    {
     "data": {
      "text/plain": [
       "8"
      ]
     },
     "execution_count": 9,
     "metadata": {},
     "output_type": "execute_result"
    }
   ],
   "source": [
    "len(df[df.speech_check=='[Speech]'])"
   ]
  },
  {
   "cell_type": "code",
   "execution_count": 10,
   "metadata": {},
   "outputs": [],
   "source": [
    "df=df[df.speech_check!='[Speech]']"
   ]
  },
  {
   "cell_type": "code",
   "execution_count": 14,
   "metadata": {},
   "outputs": [],
   "source": [
    "df.drop('speech_check',axis=1,inplace=True)"
   ]
  },
  {
   "cell_type": "code",
   "execution_count": 11,
   "metadata": {},
   "outputs": [],
   "source": [
    "df.reset_index(inplace=True)"
   ]
  },
  {
   "cell_type": "code",
   "execution_count": 12,
   "metadata": {},
   "outputs": [],
   "source": [
    "df.drop('index',axis=1,inplace=True)"
   ]
  },
  {
   "cell_type": "code",
   "execution_count": 15,
   "metadata": {},
   "outputs": [
    {
     "data": {
      "text/html": [
       "<div>\n",
       "<style scoped>\n",
       "    .dataframe tbody tr th:only-of-type {\n",
       "        vertical-align: middle;\n",
       "    }\n",
       "\n",
       "    .dataframe tbody tr th {\n",
       "        vertical-align: top;\n",
       "    }\n",
       "\n",
       "    .dataframe thead th {\n",
       "        text-align: right;\n",
       "    }\n",
       "</style>\n",
       "<table border=\"1\" class=\"dataframe\">\n",
       "  <thead>\n",
       "    <tr style=\"text-align: right;\">\n",
       "      <th></th>\n",
       "      <th>song</th>\n",
       "      <th>lyrics</th>\n",
       "    </tr>\n",
       "  </thead>\n",
       "  <tbody>\n",
       "    <tr>\n",
       "      <th>0</th>\n",
       "      <td>a day in the life</td>\n",
       "      <td>[I read the news today oh, boy, About a lucky ...</td>\n",
       "    </tr>\n",
       "    <tr>\n",
       "      <th>1</th>\n",
       "      <td>a hard days night</td>\n",
       "      <td>[It's been a hard day's night, and I've been w...</td>\n",
       "    </tr>\n",
       "    <tr>\n",
       "      <th>2</th>\n",
       "      <td>a shot of rhythm blues</td>\n",
       "      <td>[Well, if your hands start a-clapping, And you...</td>\n",
       "    </tr>\n",
       "    <tr>\n",
       "      <th>3</th>\n",
       "      <td>a taste of honey</td>\n",
       "      <td>[A taste of honey., Tasting much sweeter than ...</td>\n",
       "    </tr>\n",
       "    <tr>\n",
       "      <th>4</th>\n",
       "      <td>across the universe</td>\n",
       "      <td>[Words are flowing out like endless rain into ...</td>\n",
       "    </tr>\n",
       "  </tbody>\n",
       "</table>\n",
       "</div>"
      ],
      "text/plain": [
       "                     song                                             lyrics\n",
       "0       a day in the life  [I read the news today oh, boy, About a lucky ...\n",
       "1       a hard days night  [It's been a hard day's night, and I've been w...\n",
       "2  a shot of rhythm blues  [Well, if your hands start a-clapping, And you...\n",
       "3        a taste of honey  [A taste of honey., Tasting much sweeter than ...\n",
       "4     across the universe  [Words are flowing out like endless rain into ..."
      ]
     },
     "execution_count": 15,
     "metadata": {},
     "output_type": "execute_result"
    }
   ],
   "source": [
    "df.head()"
   ]
  },
  {
   "cell_type": "code",
   "execution_count": 16,
   "metadata": {},
   "outputs": [
    {
     "data": {
      "text/plain": [
       "192"
      ]
     },
     "execution_count": 16,
     "metadata": {},
     "output_type": "execute_result"
    }
   ],
   "source": [
    "len(df)"
   ]
  },
  {
   "cell_type": "code",
   "execution_count": 17,
   "metadata": {},
   "outputs": [],
   "source": [
    "every_lyrics=[]\n",
    "for i in range(len(df)):\n",
    "    every_lyrics.append(df.lyrics[i])"
   ]
  },
  {
   "cell_type": "code",
   "execution_count": 19,
   "metadata": {},
   "outputs": [
    {
     "data": {
      "text/plain": [
       "['I read the news today oh, boy',\n",
       " 'About a lucky man who made the grade',\n",
       " 'And though the news was rather sad',\n",
       " 'Well, I just had to laugh',\n",
       " 'I saw the photograph',\n",
       " 'He blew his mind out in a car',\n",
       " \"He didn't notice that the lights had changed\",\n",
       " 'A crowd of people stood and stared',\n",
       " \"They'd seen his face before\",\n",
       " 'Nobody was really sure if he was from the house of lords',\n",
       " 'I saw a film today oh, boy',\n",
       " 'The english army had just won the war',\n",
       " 'A crowd of people turned away',\n",
       " 'But I just had to look',\n",
       " 'Having read the book',\n",
       " \"I'd love to turn you on.\",\n",
       " 'Woke up, fell out of bed',\n",
       " 'Dragged a comb across my head',\n",
       " 'Found my way downstairs and drank a cup',\n",
       " 'And looking up, I noticed I was late',\n",
       " 'Found my coat and grabbed my hat',\n",
       " 'Made the bus in seconds flat',\n",
       " 'Found my way upstairs and had a smoke',\n",
       " 'And somebody spoke and I went into a dream',\n",
       " 'Ah',\n",
       " 'I read the news today oh, boy',\n",
       " 'Four thousand holes in blackburn, lancashire',\n",
       " 'And though the holes were rather small',\n",
       " 'They had to count them all',\n",
       " 'Now they know how many holes it takes to fill the albert hall',\n",
       " \"I'd love to turn you on\"]"
      ]
     },
     "execution_count": 19,
     "metadata": {},
     "output_type": "execute_result"
    }
   ],
   "source": [
    "every_lyrics[0]"
   ]
  },
  {
   "cell_type": "code",
   "execution_count": 30,
   "metadata": {},
   "outputs": [],
   "source": [
    "btls_phrase_cnt={}\n",
    "for song in every_lyrics:\n",
    "    for word in song:\n",
    "        if word not in btls_phrase_cnt.keys():\n",
    "            btls_phrase_cnt[word]=1\n",
    "        else:\n",
    "            btls_phrase_cnt[word]+=1"
   ]
  },
  {
   "cell_type": "code",
   "execution_count": 35,
   "metadata": {},
   "outputs": [],
   "source": [
    "btls_ltr_cnt={}\n",
    "for song in every_lyrics:\n",
    "    for line in song:\n",
    "        for word in line:\n",
    "            if word not in btls_ltr_cnt.keys():\n",
    "                btls_ltr_cnt[word]=1\n",
    "            else:\n",
    "                btls_ltr_cnt[word]+=1"
   ]
  },
  {
   "cell_type": "code",
   "execution_count": 52,
   "metadata": {},
   "outputs": [],
   "source": [
    "btls_wrd_cnt={}\n",
    "for song in every_lyrics:\n",
    "    for line in song:\n",
    "        for word in line.split():\n",
    "            if word not in btls_wrd_cnt.keys():\n",
    "                btls_wrd_cnt[word]=1\n",
    "            else:\n",
    "                btls_wrd_cnt[word]+=1"
   ]
  },
  {
   "cell_type": "code",
   "execution_count": 53,
   "metadata": {},
   "outputs": [
    {
     "data": {
      "text/plain": [
       "[('grade', 1), ('photograph', 1), ('notice', 1), ('lights', 1), ('stood', 1)]"
      ]
     },
     "execution_count": 53,
     "metadata": {},
     "output_type": "execute_result"
    }
   ],
   "source": [
    "sorted_words = sorted(btls_wrd_cnt.items(), key=operator.itemgetter(1))\n",
    "sorted_words[0:5]"
   ]
  },
  {
   "cell_type": "code",
   "execution_count": 54,
   "metadata": {},
   "outputs": [
    {
     "data": {
      "text/plain": [
       "[('I', 1203), ('you', 1127), ('the', 792), ('to', 683), ('me', 576)]"
      ]
     },
     "execution_count": 54,
     "metadata": {},
     "output_type": "execute_result"
    }
   ],
   "source": [
    "sorted_words[::-1][0:5]"
   ]
  },
  {
   "cell_type": "code",
   "execution_count": 55,
   "metadata": {},
   "outputs": [],
   "source": [
    "sorted_words=sorted_words[::-1]"
   ]
  },
  {
   "cell_type": "code",
   "execution_count": 56,
   "metadata": {},
   "outputs": [
    {
     "data": {
      "text/plain": [
       "[('I', 1203), ('you', 1127), ('the', 792), ('to', 683), ('me', 576)]"
      ]
     },
     "execution_count": 56,
     "metadata": {},
     "output_type": "execute_result"
    }
   ],
   "source": [
    "sorted_words[0:5]"
   ]
  },
  {
   "cell_type": "code",
   "execution_count": 57,
   "metadata": {},
   "outputs": [],
   "source": [
    "new_sorts=[]\n",
    "for word in sorted_words:\n",
    "    if word[0] not in eng_stop:\n",
    "        new_sorts.append(word)"
   ]
  },
  {
   "cell_type": "code",
   "execution_count": 59,
   "metadata": {},
   "outputs": [
    {
     "data": {
      "text/plain": [
       "[('I', 1203),\n",
       " (\"I'm\", 313),\n",
       " ('And', 286),\n",
       " ('love', 264),\n",
       " ('know', 184),\n",
       " ('You', 143),\n",
       " ('want', 141),\n",
       " ('got', 138),\n",
       " ('baby', 131),\n",
       " (\"I'll\", 127)]"
      ]
     },
     "execution_count": 59,
     "metadata": {},
     "output_type": "execute_result"
    }
   ],
   "source": [
    "new_sorts[0:10]"
   ]
  },
  {
   "cell_type": "code",
   "execution_count": 63,
   "metadata": {},
   "outputs": [],
   "source": [
    "new_sorts=new_sorts[1:]"
   ]
  },
  {
   "cell_type": "code",
   "execution_count": 64,
   "metadata": {},
   "outputs": [
    {
     "data": {
      "text/plain": [
       "[('love', 264),\n",
       " ('know', 184),\n",
       " ('You', 143),\n",
       " ('want', 141),\n",
       " ('got', 138),\n",
       " ('baby', 131),\n",
       " (\"I'll\", 127),\n",
       " ('But', 126),\n",
       " ('say', 124),\n",
       " ('get', 109)]"
      ]
     },
     "execution_count": 64,
     "metadata": {},
     "output_type": "execute_result"
    }
   ],
   "source": [
    "new_sorts[0:10]"
   ]
  },
  {
   "cell_type": "code",
   "execution_count": 76,
   "metadata": {},
   "outputs": [],
   "source": [
    "new_sorts.remove((\"I'll\", 127))"
   ]
  },
  {
   "cell_type": "code",
   "execution_count": 77,
   "metadata": {},
   "outputs": [
    {
     "data": {
      "text/plain": [
       "[('love', 264),\n",
       " ('know', 184),\n",
       " ('You', 143),\n",
       " ('want', 141),\n",
       " ('got', 138),\n",
       " ('baby', 131),\n",
       " ('But', 126),\n",
       " ('say', 124),\n",
       " ('get', 109),\n",
       " ('Oh', 107)]"
      ]
     },
     "execution_count": 77,
     "metadata": {},
     "output_type": "execute_result"
    }
   ],
   "source": [
    "new_sorts[0:10]"
   ]
  },
  {
   "cell_type": "code",
   "execution_count": 72,
   "metadata": {},
   "outputs": [],
   "source": [
    "btls_wrds_dict=dict(new_sorts)"
   ]
  },
  {
   "cell_type": "code",
   "execution_count": 105,
   "metadata": {},
   "outputs": [
    {
     "data": {
      "text/plain": [
       "32"
      ]
     },
     "execution_count": 105,
     "metadata": {},
     "output_type": "execute_result"
    }
   ],
   "source": [
    "len(string.punctuation)"
   ]
  },
  {
   "cell_type": "code",
   "execution_count": 106,
   "metadata": {},
   "outputs": [],
   "source": [
    "punct=[]\n",
    "for i in range(0,32):\n",
    "    punct.append(string.punctuation[i])"
   ]
  },
  {
   "cell_type": "code",
   "execution_count": 108,
   "metadata": {},
   "outputs": [
    {
     "data": {
      "text/plain": [
       "['!', '\"', '#', '$', '%']"
      ]
     },
     "execution_count": 108,
     "metadata": {},
     "output_type": "execute_result"
    }
   ],
   "source": [
    "punct[0:5]"
   ]
  },
  {
   "cell_type": "code",
   "execution_count": 85,
   "metadata": {},
   "outputs": [
    {
     "data": {
      "text/plain": [
       "<matplotlib.image.AxesImage at 0x1a2c8c43d0>"
      ]
     },
     "execution_count": 85,
     "metadata": {},
     "output_type": "execute_result"
    },
    {
     "data": {
      "image/png": "[encoded data removed]",
      "text/plain": [
       "<Figure size 1080x576 with 1 Axes>"
      ]
     },
     "metadata": {
      "needs_background": "light"
     },
     "output_type": "display_data"
    }
   ],
   "source": [
    "plt.figure(figsize=(15,8))\n",
    "wc = WordCloud(background_color=\"blue\",width=3000,height=2000, max_words=50,normalize_plurals=True).generate_from_frequencies(btls_wrds_dict)\n",
    "plt.tight_layout()\n",
    "plt.imshow(wc)"
   ]
  },
  {
   "cell_type": "code",
   "execution_count": 133,
   "metadata": {},
   "outputs": [],
   "source": [
    "# remove punctuation from words in word cloud"
   ]
  },
  {
   "cell_type": "code",
   "execution_count": null,
   "metadata": {},
   "outputs": [],
   "source": []
  }
 ],
 "metadata": {
  "kernelspec": {
   "display_name": "Python 3",
   "language": "python",
   "name": "python3"
  },
  "language_info": {
   "codemirror_mode": {
    "name": "ipython",
    "version": 3
   },
   "file_extension": ".py",
   "mimetype": "text/x-python",
   "name": "python",
   "nbconvert_exporter": "python",
   "pygments_lexer": "ipython3",
   "version": "3.7.6"
  }
 },
 "nbformat": 4,
 "nbformat_minor": 4
}
