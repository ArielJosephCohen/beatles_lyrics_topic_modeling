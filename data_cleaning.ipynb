{
 "cells": [
  {
   "cell_type": "code",
   "execution_count": 123,
   "metadata": {},
   "outputs": [],
   "source": [
    "import warnings\n",
    "warnings.filterwarnings('ignore')\n",
    "import pandas as pd\n",
    "import numpy as np\n",
    "from scipy import stats\n",
    "import seaborn as sns\n",
    "from sklearn.preprocessing import *\n",
    "import matplotlib.pyplot as plt\n",
    "import nltk\n",
    "from nltk.corpus import stopwords\n",
    "import pickle\n",
    "import operator\n",
    "from wordcloud import WordCloud\n",
    "from PIL import Image\n",
    "import string\n",
    "import re"
   ]
  },
  {
   "cell_type": "code",
   "execution_count": 124,
   "metadata": {},
   "outputs": [],
   "source": [
    "eng_stop=stopwords.words('english')"
   ]
  },
  {
   "cell_type": "code",
   "execution_count": 125,
   "metadata": {},
   "outputs": [
    {
     "data": {
      "text/plain": [
       "['i', 'me', 'my', 'myself', 'we']"
      ]
     },
     "execution_count": 125,
     "metadata": {},
     "output_type": "execute_result"
    }
   ],
   "source": [
    "eng_stop[0:5]"
   ]
  },
  {
   "cell_type": "code",
   "execution_count": 126,
   "metadata": {},
   "outputs": [],
   "source": [
    "df=pd.read_pickle('song_lyric_df.pkl')"
   ]
  },
  {
   "cell_type": "code",
   "execution_count": 127,
   "metadata": {},
   "outputs": [
    {
     "data": {
      "text/html": [
       "<div>\n",
       "<style scoped>\n",
       "    .dataframe tbody tr th:only-of-type {\n",
       "        vertical-align: middle;\n",
       "    }\n",
       "\n",
       "    .dataframe tbody tr th {\n",
       "        vertical-align: top;\n",
       "    }\n",
       "\n",
       "    .dataframe thead th {\n",
       "        text-align: right;\n",
       "    }\n",
       "</style>\n",
       "<table border=\"1\" class=\"dataframe\">\n",
       "  <thead>\n",
       "    <tr style=\"text-align: right;\">\n",
       "      <th></th>\n",
       "      <th>song</th>\n",
       "      <th>lyrics</th>\n",
       "    </tr>\n",
       "  </thead>\n",
       "  <tbody>\n",
       "    <tr>\n",
       "      <th>0</th>\n",
       "      <td>1822</td>\n",
       "      <td>[[Speech], John: This is a Dorsey Burnette num...</td>\n",
       "    </tr>\n",
       "    <tr>\n",
       "      <th>1</th>\n",
       "      <td>a day in the life</td>\n",
       "      <td>[I read the news today oh, boy, About a lucky ...</td>\n",
       "    </tr>\n",
       "    <tr>\n",
       "      <th>2</th>\n",
       "      <td>a hard days night</td>\n",
       "      <td>[It's been a hard day's night, and I've been w...</td>\n",
       "    </tr>\n",
       "    <tr>\n",
       "      <th>3</th>\n",
       "      <td>a little rhyme</td>\n",
       "      <td>[[Speech], Rodney Burke: Now, for the final nu...</td>\n",
       "    </tr>\n",
       "    <tr>\n",
       "      <th>4</th>\n",
       "      <td>a shot of rhythm blues</td>\n",
       "      <td>[Well, if your hands start a-clapping, And you...</td>\n",
       "    </tr>\n",
       "  </tbody>\n",
       "</table>\n",
       "</div>"
      ],
      "text/plain": [
       "                     song                                             lyrics\n",
       "0                    1822  [[Speech], John: This is a Dorsey Burnette num...\n",
       "1       a day in the life  [I read the news today oh, boy, About a lucky ...\n",
       "2       a hard days night  [It's been a hard day's night, and I've been w...\n",
       "3          a little rhyme  [[Speech], Rodney Burke: Now, for the final nu...\n",
       "4  a shot of rhythm blues  [Well, if your hands start a-clapping, And you..."
      ]
     },
     "execution_count": 127,
     "metadata": {},
     "output_type": "execute_result"
    }
   ],
   "source": [
    "df.head()"
   ]
  },
  {
   "cell_type": "code",
   "execution_count": 128,
   "metadata": {},
   "outputs": [],
   "source": [
    "df['speech_check']=df.lyrics.apply(lambda x: x[0])"
   ]
  },
  {
   "cell_type": "code",
   "execution_count": 129,
   "metadata": {},
   "outputs": [
    {
     "data": {
      "text/html": [
       "<div>\n",
       "<style scoped>\n",
       "    .dataframe tbody tr th:only-of-type {\n",
       "        vertical-align: middle;\n",
       "    }\n",
       "\n",
       "    .dataframe tbody tr th {\n",
       "        vertical-align: top;\n",
       "    }\n",
       "\n",
       "    .dataframe thead th {\n",
       "        text-align: right;\n",
       "    }\n",
       "</style>\n",
       "<table border=\"1\" class=\"dataframe\">\n",
       "  <thead>\n",
       "    <tr style=\"text-align: right;\">\n",
       "      <th></th>\n",
       "      <th>song</th>\n",
       "      <th>lyrics</th>\n",
       "      <th>speech_check</th>\n",
       "    </tr>\n",
       "  </thead>\n",
       "  <tbody>\n",
       "    <tr>\n",
       "      <th>0</th>\n",
       "      <td>1822</td>\n",
       "      <td>[[Speech], John: This is a Dorsey Burnette num...</td>\n",
       "      <td>[Speech]</td>\n",
       "    </tr>\n",
       "    <tr>\n",
       "      <th>1</th>\n",
       "      <td>a day in the life</td>\n",
       "      <td>[I read the news today oh, boy, About a lucky ...</td>\n",
       "      <td>I read the news today oh, boy</td>\n",
       "    </tr>\n",
       "    <tr>\n",
       "      <th>2</th>\n",
       "      <td>a hard days night</td>\n",
       "      <td>[It's been a hard day's night, and I've been w...</td>\n",
       "      <td>It's been a hard day's night, and I've been wo...</td>\n",
       "    </tr>\n",
       "    <tr>\n",
       "      <th>3</th>\n",
       "      <td>a little rhyme</td>\n",
       "      <td>[[Speech], Rodney Burke: Now, for the final nu...</td>\n",
       "      <td>[Speech]</td>\n",
       "    </tr>\n",
       "    <tr>\n",
       "      <th>4</th>\n",
       "      <td>a shot of rhythm blues</td>\n",
       "      <td>[Well, if your hands start a-clapping, And you...</td>\n",
       "      <td>Well, if your hands start a-clapping</td>\n",
       "    </tr>\n",
       "  </tbody>\n",
       "</table>\n",
       "</div>"
      ],
      "text/plain": [
       "                     song                                             lyrics  \\\n",
       "0                    1822  [[Speech], John: This is a Dorsey Burnette num...   \n",
       "1       a day in the life  [I read the news today oh, boy, About a lucky ...   \n",
       "2       a hard days night  [It's been a hard day's night, and I've been w...   \n",
       "3          a little rhyme  [[Speech], Rodney Burke: Now, for the final nu...   \n",
       "4  a shot of rhythm blues  [Well, if your hands start a-clapping, And you...   \n",
       "\n",
       "                                        speech_check  \n",
       "0                                           [Speech]  \n",
       "1                      I read the news today oh, boy  \n",
       "2  It's been a hard day's night, and I've been wo...  \n",
       "3                                           [Speech]  \n",
       "4               Well, if your hands start a-clapping  "
      ]
     },
     "execution_count": 129,
     "metadata": {},
     "output_type": "execute_result"
    }
   ],
   "source": [
    "df.head()"
   ]
  },
  {
   "cell_type": "code",
   "execution_count": 130,
   "metadata": {},
   "outputs": [
    {
     "data": {
      "text/html": [
       "<div>\n",
       "<style scoped>\n",
       "    .dataframe tbody tr th:only-of-type {\n",
       "        vertical-align: middle;\n",
       "    }\n",
       "\n",
       "    .dataframe tbody tr th {\n",
       "        vertical-align: top;\n",
       "    }\n",
       "\n",
       "    .dataframe thead th {\n",
       "        text-align: right;\n",
       "    }\n",
       "</style>\n",
       "<table border=\"1\" class=\"dataframe\">\n",
       "  <thead>\n",
       "    <tr style=\"text-align: right;\">\n",
       "      <th></th>\n",
       "      <th>song</th>\n",
       "      <th>lyrics</th>\n",
       "      <th>speech_check</th>\n",
       "    </tr>\n",
       "  </thead>\n",
       "  <tbody>\n",
       "    <tr>\n",
       "      <th>0</th>\n",
       "      <td>1822</td>\n",
       "      <td>[[Speech], John: This is a Dorsey Burnette num...</td>\n",
       "      <td>[Speech]</td>\n",
       "    </tr>\n",
       "    <tr>\n",
       "      <th>3</th>\n",
       "      <td>a little rhyme</td>\n",
       "      <td>[[Speech], Rodney Burke: Now, for the final nu...</td>\n",
       "      <td>[Speech]</td>\n",
       "    </tr>\n",
       "    <tr>\n",
       "      <th>27</th>\n",
       "      <td>beatle greetings</td>\n",
       "      <td>[[Speech], Ringo: I'm Ringo and I play the dru...</td>\n",
       "      <td>[Speech]</td>\n",
       "    </tr>\n",
       "    <tr>\n",
       "      <th>49</th>\n",
       "      <td>crinsk dee night</td>\n",
       "      <td>[[Speech], Brian Matthew: The next few minutes...</td>\n",
       "      <td>[Speech]</td>\n",
       "    </tr>\n",
       "    <tr>\n",
       "      <th>54</th>\n",
       "      <td>dear wack</td>\n",
       "      <td>[[Speech], Brian Matthew: But despite the fact...</td>\n",
       "      <td>[Speech]</td>\n",
       "    </tr>\n",
       "    <tr>\n",
       "      <th>94</th>\n",
       "      <td>have a banana</td>\n",
       "      <td>[[Speech], Brian Matthew: Is that it? Is that ...</td>\n",
       "      <td>[Speech]</td>\n",
       "    </tr>\n",
       "    <tr>\n",
       "      <th>153</th>\n",
       "      <td>just a rumour</td>\n",
       "      <td>[[Speech], Alan Freeman: George, is it true th...</td>\n",
       "      <td>[Speech]</td>\n",
       "    </tr>\n",
       "    <tr>\n",
       "      <th>169</th>\n",
       "      <td>love these goon shows</td>\n",
       "      <td>[[Speech], Lee Peters: But now, John has his w...</td>\n",
       "      <td>[Speech]</td>\n",
       "    </tr>\n",
       "  </tbody>\n",
       "</table>\n",
       "</div>"
      ],
      "text/plain": [
       "                      song                                             lyrics  \\\n",
       "0                     1822  [[Speech], John: This is a Dorsey Burnette num...   \n",
       "3           a little rhyme  [[Speech], Rodney Burke: Now, for the final nu...   \n",
       "27        beatle greetings  [[Speech], Ringo: I'm Ringo and I play the dru...   \n",
       "49        crinsk dee night  [[Speech], Brian Matthew: The next few minutes...   \n",
       "54               dear wack  [[Speech], Brian Matthew: But despite the fact...   \n",
       "94           have a banana  [[Speech], Brian Matthew: Is that it? Is that ...   \n",
       "153          just a rumour  [[Speech], Alan Freeman: George, is it true th...   \n",
       "169  love these goon shows  [[Speech], Lee Peters: But now, John has his w...   \n",
       "\n",
       "    speech_check  \n",
       "0       [Speech]  \n",
       "3       [Speech]  \n",
       "27      [Speech]  \n",
       "49      [Speech]  \n",
       "54      [Speech]  \n",
       "94      [Speech]  \n",
       "153     [Speech]  \n",
       "169     [Speech]  "
      ]
     },
     "execution_count": 130,
     "metadata": {},
     "output_type": "execute_result"
    }
   ],
   "source": [
    "df[df.speech_check=='[Speech]']"
   ]
  },
  {
   "cell_type": "code",
   "execution_count": 131,
   "metadata": {},
   "outputs": [
    {
     "data": {
      "text/plain": [
       "8"
      ]
     },
     "execution_count": 131,
     "metadata": {},
     "output_type": "execute_result"
    }
   ],
   "source": [
    "len(df[df.speech_check=='[Speech]'])"
   ]
  },
  {
   "cell_type": "code",
   "execution_count": 132,
   "metadata": {},
   "outputs": [],
   "source": [
    "df=df[df.speech_check!='[Speech]']"
   ]
  },
  {
   "cell_type": "code",
   "execution_count": 133,
   "metadata": {},
   "outputs": [],
   "source": [
    "df.drop('speech_check',axis=1,inplace=True)"
   ]
  },
  {
   "cell_type": "code",
   "execution_count": 134,
   "metadata": {},
   "outputs": [],
   "source": [
    "df.reset_index(inplace=True)"
   ]
  },
  {
   "cell_type": "code",
   "execution_count": 135,
   "metadata": {},
   "outputs": [],
   "source": [
    "df.drop('index',axis=1,inplace=True)"
   ]
  },
  {
   "cell_type": "code",
   "execution_count": 136,
   "metadata": {},
   "outputs": [
    {
     "data": {
      "text/html": [
       "<div>\n",
       "<style scoped>\n",
       "    .dataframe tbody tr th:only-of-type {\n",
       "        vertical-align: middle;\n",
       "    }\n",
       "\n",
       "    .dataframe tbody tr th {\n",
       "        vertical-align: top;\n",
       "    }\n",
       "\n",
       "    .dataframe thead th {\n",
       "        text-align: right;\n",
       "    }\n",
       "</style>\n",
       "<table border=\"1\" class=\"dataframe\">\n",
       "  <thead>\n",
       "    <tr style=\"text-align: right;\">\n",
       "      <th></th>\n",
       "      <th>song</th>\n",
       "      <th>lyrics</th>\n",
       "    </tr>\n",
       "  </thead>\n",
       "  <tbody>\n",
       "    <tr>\n",
       "      <th>0</th>\n",
       "      <td>a day in the life</td>\n",
       "      <td>[I read the news today oh, boy, About a lucky ...</td>\n",
       "    </tr>\n",
       "    <tr>\n",
       "      <th>1</th>\n",
       "      <td>a hard days night</td>\n",
       "      <td>[It's been a hard day's night, and I've been w...</td>\n",
       "    </tr>\n",
       "    <tr>\n",
       "      <th>2</th>\n",
       "      <td>a shot of rhythm blues</td>\n",
       "      <td>[Well, if your hands start a-clapping, And you...</td>\n",
       "    </tr>\n",
       "    <tr>\n",
       "      <th>3</th>\n",
       "      <td>a taste of honey</td>\n",
       "      <td>[A taste of honey., Tasting much sweeter than ...</td>\n",
       "    </tr>\n",
       "    <tr>\n",
       "      <th>4</th>\n",
       "      <td>across the universe</td>\n",
       "      <td>[Words are flowing out like endless rain into ...</td>\n",
       "    </tr>\n",
       "  </tbody>\n",
       "</table>\n",
       "</div>"
      ],
      "text/plain": [
       "                     song                                             lyrics\n",
       "0       a day in the life  [I read the news today oh, boy, About a lucky ...\n",
       "1       a hard days night  [It's been a hard day's night, and I've been w...\n",
       "2  a shot of rhythm blues  [Well, if your hands start a-clapping, And you...\n",
       "3        a taste of honey  [A taste of honey., Tasting much sweeter than ...\n",
       "4     across the universe  [Words are flowing out like endless rain into ..."
      ]
     },
     "execution_count": 136,
     "metadata": {},
     "output_type": "execute_result"
    }
   ],
   "source": [
    "df.head()"
   ]
  },
  {
   "cell_type": "code",
   "execution_count": 137,
   "metadata": {},
   "outputs": [],
   "source": [
    "df['lyrics_mush']=df.lyrics.apply(lambda x: ' '.join(x))"
   ]
  },
  {
   "cell_type": "code",
   "execution_count": 138,
   "metadata": {},
   "outputs": [
    {
     "data": {
      "text/html": [
       "<div>\n",
       "<style scoped>\n",
       "    .dataframe tbody tr th:only-of-type {\n",
       "        vertical-align: middle;\n",
       "    }\n",
       "\n",
       "    .dataframe tbody tr th {\n",
       "        vertical-align: top;\n",
       "    }\n",
       "\n",
       "    .dataframe thead th {\n",
       "        text-align: right;\n",
       "    }\n",
       "</style>\n",
       "<table border=\"1\" class=\"dataframe\">\n",
       "  <thead>\n",
       "    <tr style=\"text-align: right;\">\n",
       "      <th></th>\n",
       "      <th>song</th>\n",
       "      <th>lyrics</th>\n",
       "      <th>lyrics_mush</th>\n",
       "    </tr>\n",
       "  </thead>\n",
       "  <tbody>\n",
       "    <tr>\n",
       "      <th>0</th>\n",
       "      <td>a day in the life</td>\n",
       "      <td>[I read the news today oh, boy, About a lucky ...</td>\n",
       "      <td>I read the news today oh, boy About a lucky ma...</td>\n",
       "    </tr>\n",
       "    <tr>\n",
       "      <th>1</th>\n",
       "      <td>a hard days night</td>\n",
       "      <td>[It's been a hard day's night, and I've been w...</td>\n",
       "      <td>It's been a hard day's night, and I've been wo...</td>\n",
       "    </tr>\n",
       "    <tr>\n",
       "      <th>2</th>\n",
       "      <td>a shot of rhythm blues</td>\n",
       "      <td>[Well, if your hands start a-clapping, And you...</td>\n",
       "      <td>Well, if your hands start a-clapping And your ...</td>\n",
       "    </tr>\n",
       "    <tr>\n",
       "      <th>3</th>\n",
       "      <td>a taste of honey</td>\n",
       "      <td>[A taste of honey., Tasting much sweeter than ...</td>\n",
       "      <td>A taste of honey. Tasting much sweeter than wi...</td>\n",
       "    </tr>\n",
       "    <tr>\n",
       "      <th>4</th>\n",
       "      <td>across the universe</td>\n",
       "      <td>[Words are flowing out like endless rain into ...</td>\n",
       "      <td>Words are flowing out like endless rain into a...</td>\n",
       "    </tr>\n",
       "  </tbody>\n",
       "</table>\n",
       "</div>"
      ],
      "text/plain": [
       "                     song                                             lyrics  \\\n",
       "0       a day in the life  [I read the news today oh, boy, About a lucky ...   \n",
       "1       a hard days night  [It's been a hard day's night, and I've been w...   \n",
       "2  a shot of rhythm blues  [Well, if your hands start a-clapping, And you...   \n",
       "3        a taste of honey  [A taste of honey., Tasting much sweeter than ...   \n",
       "4     across the universe  [Words are flowing out like endless rain into ...   \n",
       "\n",
       "                                         lyrics_mush  \n",
       "0  I read the news today oh, boy About a lucky ma...  \n",
       "1  It's been a hard day's night, and I've been wo...  \n",
       "2  Well, if your hands start a-clapping And your ...  \n",
       "3  A taste of honey. Tasting much sweeter than wi...  \n",
       "4  Words are flowing out like endless rain into a...  "
      ]
     },
     "execution_count": 138,
     "metadata": {},
     "output_type": "execute_result"
    }
   ],
   "source": [
    "df.head()"
   ]
  },
  {
   "cell_type": "code",
   "execution_count": 139,
   "metadata": {},
   "outputs": [],
   "source": [
    "def clean_text(text):\n",
    "    text = text.lower()\n",
    "    text = re.sub('\\[.*?\\]', '', text)\n",
    "    text = re.sub('[%s]' % re.escape(string.punctuation), '', text)\n",
    "    text = re.sub('\\w*\\d\\w*', '', text)\n",
    "    return text"
   ]
  },
  {
   "cell_type": "code",
   "execution_count": 140,
   "metadata": {},
   "outputs": [
    {
     "data": {
      "text/html": [
       "<div>\n",
       "<style scoped>\n",
       "    .dataframe tbody tr th:only-of-type {\n",
       "        vertical-align: middle;\n",
       "    }\n",
       "\n",
       "    .dataframe tbody tr th {\n",
       "        vertical-align: top;\n",
       "    }\n",
       "\n",
       "    .dataframe thead th {\n",
       "        text-align: right;\n",
       "    }\n",
       "</style>\n",
       "<table border=\"1\" class=\"dataframe\">\n",
       "  <thead>\n",
       "    <tr style=\"text-align: right;\">\n",
       "      <th></th>\n",
       "      <th>song</th>\n",
       "      <th>lyrics</th>\n",
       "      <th>lyrics_mush</th>\n",
       "    </tr>\n",
       "  </thead>\n",
       "  <tbody>\n",
       "    <tr>\n",
       "      <th>0</th>\n",
       "      <td>a day in the life</td>\n",
       "      <td>[I read the news today oh, boy, About a lucky ...</td>\n",
       "      <td>I read the news today oh, boy About a lucky ma...</td>\n",
       "    </tr>\n",
       "    <tr>\n",
       "      <th>1</th>\n",
       "      <td>a hard days night</td>\n",
       "      <td>[It's been a hard day's night, and I've been w...</td>\n",
       "      <td>It's been a hard day's night, and I've been wo...</td>\n",
       "    </tr>\n",
       "    <tr>\n",
       "      <th>2</th>\n",
       "      <td>a shot of rhythm blues</td>\n",
       "      <td>[Well, if your hands start a-clapping, And you...</td>\n",
       "      <td>Well, if your hands start a-clapping And your ...</td>\n",
       "    </tr>\n",
       "    <tr>\n",
       "      <th>3</th>\n",
       "      <td>a taste of honey</td>\n",
       "      <td>[A taste of honey., Tasting much sweeter than ...</td>\n",
       "      <td>A taste of honey. Tasting much sweeter than wi...</td>\n",
       "    </tr>\n",
       "    <tr>\n",
       "      <th>4</th>\n",
       "      <td>across the universe</td>\n",
       "      <td>[Words are flowing out like endless rain into ...</td>\n",
       "      <td>Words are flowing out like endless rain into a...</td>\n",
       "    </tr>\n",
       "  </tbody>\n",
       "</table>\n",
       "</div>"
      ],
      "text/plain": [
       "                     song                                             lyrics  \\\n",
       "0       a day in the life  [I read the news today oh, boy, About a lucky ...   \n",
       "1       a hard days night  [It's been a hard day's night, and I've been w...   \n",
       "2  a shot of rhythm blues  [Well, if your hands start a-clapping, And you...   \n",
       "3        a taste of honey  [A taste of honey., Tasting much sweeter than ...   \n",
       "4     across the universe  [Words are flowing out like endless rain into ...   \n",
       "\n",
       "                                         lyrics_mush  \n",
       "0  I read the news today oh, boy About a lucky ma...  \n",
       "1  It's been a hard day's night, and I've been wo...  \n",
       "2  Well, if your hands start a-clapping And your ...  \n",
       "3  A taste of honey. Tasting much sweeter than wi...  \n",
       "4  Words are flowing out like endless rain into a...  "
      ]
     },
     "execution_count": 140,
     "metadata": {},
     "output_type": "execute_result"
    }
   ],
   "source": [
    "df.head()"
   ]
  },
  {
   "cell_type": "code",
   "execution_count": 141,
   "metadata": {},
   "outputs": [],
   "source": [
    "df['clean_lyrics']=df.lyrics_mush.apply(lambda x: clean_text(x))"
   ]
  },
  {
   "cell_type": "code",
   "execution_count": 142,
   "metadata": {},
   "outputs": [],
   "source": [
    "df.drop('lyrics_mush',axis=1,inplace=True)"
   ]
  },
  {
   "cell_type": "code",
   "execution_count": 143,
   "metadata": {},
   "outputs": [
    {
     "data": {
      "text/html": [
       "<div>\n",
       "<style scoped>\n",
       "    .dataframe tbody tr th:only-of-type {\n",
       "        vertical-align: middle;\n",
       "    }\n",
       "\n",
       "    .dataframe tbody tr th {\n",
       "        vertical-align: top;\n",
       "    }\n",
       "\n",
       "    .dataframe thead th {\n",
       "        text-align: right;\n",
       "    }\n",
       "</style>\n",
       "<table border=\"1\" class=\"dataframe\">\n",
       "  <thead>\n",
       "    <tr style=\"text-align: right;\">\n",
       "      <th></th>\n",
       "      <th>song</th>\n",
       "      <th>lyrics</th>\n",
       "      <th>clean_lyrics</th>\n",
       "    </tr>\n",
       "  </thead>\n",
       "  <tbody>\n",
       "    <tr>\n",
       "      <th>0</th>\n",
       "      <td>a day in the life</td>\n",
       "      <td>[I read the news today oh, boy, About a lucky ...</td>\n",
       "      <td>i read the news today oh boy about a lucky man...</td>\n",
       "    </tr>\n",
       "    <tr>\n",
       "      <th>1</th>\n",
       "      <td>a hard days night</td>\n",
       "      <td>[It's been a hard day's night, and I've been w...</td>\n",
       "      <td>its been a hard days night and ive been workin...</td>\n",
       "    </tr>\n",
       "    <tr>\n",
       "      <th>2</th>\n",
       "      <td>a shot of rhythm blues</td>\n",
       "      <td>[Well, if your hands start a-clapping, And you...</td>\n",
       "      <td>well if your hands start aclapping and your fi...</td>\n",
       "    </tr>\n",
       "    <tr>\n",
       "      <th>3</th>\n",
       "      <td>a taste of honey</td>\n",
       "      <td>[A taste of honey., Tasting much sweeter than ...</td>\n",
       "      <td>a taste of honey tasting much sweeter than win...</td>\n",
       "    </tr>\n",
       "    <tr>\n",
       "      <th>4</th>\n",
       "      <td>across the universe</td>\n",
       "      <td>[Words are flowing out like endless rain into ...</td>\n",
       "      <td>words are flowing out like endless rain into a...</td>\n",
       "    </tr>\n",
       "  </tbody>\n",
       "</table>\n",
       "</div>"
      ],
      "text/plain": [
       "                     song                                             lyrics  \\\n",
       "0       a day in the life  [I read the news today oh, boy, About a lucky ...   \n",
       "1       a hard days night  [It's been a hard day's night, and I've been w...   \n",
       "2  a shot of rhythm blues  [Well, if your hands start a-clapping, And you...   \n",
       "3        a taste of honey  [A taste of honey., Tasting much sweeter than ...   \n",
       "4     across the universe  [Words are flowing out like endless rain into ...   \n",
       "\n",
       "                                        clean_lyrics  \n",
       "0  i read the news today oh boy about a lucky man...  \n",
       "1  its been a hard days night and ive been workin...  \n",
       "2  well if your hands start aclapping and your fi...  \n",
       "3  a taste of honey tasting much sweeter than win...  \n",
       "4  words are flowing out like endless rain into a...  "
      ]
     },
     "execution_count": 143,
     "metadata": {},
     "output_type": "execute_result"
    }
   ],
   "source": [
    "df.head()"
   ]
  },
  {
   "cell_type": "code",
   "execution_count": 144,
   "metadata": {},
   "outputs": [
    {
     "data": {
      "text/plain": [
       "192"
      ]
     },
     "execution_count": 144,
     "metadata": {},
     "output_type": "execute_result"
    }
   ],
   "source": [
    "len(df)"
   ]
  },
  {
   "cell_type": "code",
   "execution_count": 145,
   "metadata": {},
   "outputs": [],
   "source": [
    "every_lyrics=[]\n",
    "for i in range(len(df)):\n",
    "    every_lyrics.append(df.clean_lyrics[i])"
   ]
  },
  {
   "cell_type": "code",
   "execution_count": 146,
   "metadata": {},
   "outputs": [
    {
     "data": {
      "text/plain": [
       "['i read the news today oh boy about a lucky man who made the grade and though the news was rather sad well i just had to laugh i saw the photograph he blew his mind out in a car he didnt notice that the lights had changed a crowd of people stood and stared theyd seen his face before nobody was really sure if he was from the house of lords i saw a film today oh boy the english army had just won the war a crowd of people turned away but i just had to look having read the book id love to turn you on woke up fell out of bed dragged a comb across my head found my way downstairs and drank a cup and looking up i noticed i was late found my coat and grabbed my hat made the bus in seconds flat found my way upstairs and had a smoke and somebody spoke and i went into a dream ah i read the news today oh boy four thousand holes in blackburn lancashire and though the holes were rather small they had to count them all now they know how many holes it takes to fill the albert hall id love to turn you on',\n",
       " 'its been a hard days night and ive been working like a dog its been a hard days night i should be sleeping like a log but when i get home to you i find the things that you do will make me feel alright you know i work all day to get you money to buy you things and its worth it just to hear you say youre going to give me everything so why on earth should i moan cause when i get you alone you know i feel ok when im home everything seems to be right when im home feeling you holding me tight tight yeah its been a hard days night and ive been working like a dog its been a hard days night i should be sleeping like a log but when i get home to you i find the things that you do will make me feel alright owww so why on earth should i moan cause when i get you alone you know i feel lover well when im home everything seems to be right when im home feeling you holding me tight tight yeah oh its been a hard days night and ive been working like a dog its been a hard days night i should be sleeping like a log but when i get home to you i find the things that you do will make me feel alright you know i feel alright you know i feel alright']"
      ]
     },
     "execution_count": 146,
     "metadata": {},
     "output_type": "execute_result"
    }
   ],
   "source": [
    "every_lyrics[0:2]"
   ]
  },
  {
   "cell_type": "code",
   "execution_count": 147,
   "metadata": {},
   "outputs": [],
   "source": [
    "btls_ltr_cnt={}\n",
    "for song in every_lyrics:\n",
    "    for line in song:\n",
    "        for word in line.split():\n",
    "            if word not in btls_ltr_cnt.keys():\n",
    "                btls_ltr_cnt[word]=1\n",
    "            else:\n",
    "                btls_ltr_cnt[word]+=1"
   ]
  },
  {
   "cell_type": "code",
   "execution_count": 148,
   "metadata": {},
   "outputs": [],
   "source": [
    "btls_wrd_cnt={}\n",
    "for lyric in every_lyrics:\n",
    "    for word in lyric.split():\n",
    "        if word not in btls_wrd_cnt:\n",
    "            btls_wrd_cnt[word]=1\n",
    "        else:\n",
    "            btls_wrd_cnt[word]+=1"
   ]
  },
  {
   "cell_type": "code",
   "execution_count": 149,
   "metadata": {},
   "outputs": [
    {
     "data": {
      "text/plain": [
       "[('grade', 1), ('photograph', 1), ('notice', 1), ('lights', 1), ('stood', 1)]"
      ]
     },
     "execution_count": 149,
     "metadata": {},
     "output_type": "execute_result"
    }
   ],
   "source": [
    "sorted_words = sorted(btls_wrd_cnt.items(), key=operator.itemgetter(1))\n",
    "sorted_words[0:5]"
   ]
  },
  {
   "cell_type": "code",
   "execution_count": 150,
   "metadata": {},
   "outputs": [
    {
     "data": {
      "text/plain": [
       "[('you', 1451), ('i', 1235), ('the', 865), ('me', 718), ('to', 714)]"
      ]
     },
     "execution_count": 150,
     "metadata": {},
     "output_type": "execute_result"
    }
   ],
   "source": [
    "sorted_words[::-1][0:5]"
   ]
  },
  {
   "cell_type": "code",
   "execution_count": 151,
   "metadata": {},
   "outputs": [],
   "source": [
    "sorted_words=sorted_words[::-1]"
   ]
  },
  {
   "cell_type": "code",
   "execution_count": 152,
   "metadata": {},
   "outputs": [
    {
     "data": {
      "text/plain": [
       "[('you', 1451), ('i', 1235), ('the', 865), ('me', 718), ('to', 714)]"
      ]
     },
     "execution_count": 152,
     "metadata": {},
     "output_type": "execute_result"
    }
   ],
   "source": [
    "sorted_words[0:5]"
   ]
  },
  {
   "cell_type": "code",
   "execution_count": 153,
   "metadata": {},
   "outputs": [],
   "source": [
    "new_sorts=[]\n",
    "for word in sorted_words:\n",
    "    if word[0] not in eng_stop:\n",
    "        new_sorts.append(word)"
   ]
  },
  {
   "cell_type": "code",
   "execution_count": 154,
   "metadata": {},
   "outputs": [
    {
     "data": {
      "text/plain": [
       "[('love', 367),\n",
       " ('im', 333),\n",
       " ('dont', 251),\n",
       " ('oh', 245),\n",
       " ('know', 213),\n",
       " ('baby', 205),\n",
       " ('yeah', 171),\n",
       " ('well', 171),\n",
       " ('want', 157),\n",
       " ('got', 147)]"
      ]
     },
     "execution_count": 154,
     "metadata": {},
     "output_type": "execute_result"
    }
   ],
   "source": [
    "new_sorts[0:10]"
   ]
  },
  {
   "cell_type": "code",
   "execution_count": 155,
   "metadata": {},
   "outputs": [],
   "source": [
    "btls_wrds_dict=dict(new_sorts)"
   ]
  },
  {
   "cell_type": "code",
   "execution_count": 156,
   "metadata": {},
   "outputs": [
    {
     "data": {
      "text/plain": [
       "32"
      ]
     },
     "execution_count": 156,
     "metadata": {},
     "output_type": "execute_result"
    }
   ],
   "source": [
    "len(string.punctuation)"
   ]
  },
  {
   "cell_type": "code",
   "execution_count": 157,
   "metadata": {},
   "outputs": [],
   "source": [
    "punct=[]\n",
    "for i in range(0,32):\n",
    "    punct.append(string.punctuation[i])"
   ]
  },
  {
   "cell_type": "code",
   "execution_count": 158,
   "metadata": {},
   "outputs": [
    {
     "data": {
      "text/plain": [
       "['!', '\"', '#', '$', '%']"
      ]
     },
     "execution_count": 158,
     "metadata": {},
     "output_type": "execute_result"
    }
   ],
   "source": [
    "punct[0:5]"
   ]
  },
  {
   "cell_type": "code",
   "execution_count": null,
   "metadata": {},
   "outputs": [],
   "source": [
    "plt.figure(figsize=(15,8))\n",
    "wc = WordCloud(background_color=\"blue\",width=3000,height=2000, max_words=50).generate_from_frequencies(btls_wrds_dict)\n",
    "plt.tight_layout()\n",
    "plt.axis('off')\n",
    "plt.imshow(wc)"
   ]
  },
  {
   "cell_type": "code",
   "execution_count": null,
   "metadata": {},
   "outputs": [],
   "source": [
    "mask = np.array(Image.open('/Users/josephcohen/Downloads/abby.png'))"
   ]
  },
  {
   "cell_type": "code",
   "execution_count": null,
   "metadata": {},
   "outputs": [],
   "source": [
    "plt.figure(figsize=(14,12))\n",
    "wc = WordCloud(mask=mask, background_color=\"black\",\n",
    "               max_words=400).generate_from_frequencies(btls_wrds_dict)\n",
    "plt.imshow(wc, interpolation=\"bilinear\")\n",
    "plt.tight_layout()\n",
    "plt.axis('off')"
   ]
  },
  {
   "cell_type": "code",
   "execution_count": null,
   "metadata": {},
   "outputs": [],
   "source": [
    "def one_color_func(word=None, font_size=None, \n",
    "                   position=None, orientation=None, \n",
    "                   font_path=None, random_state=None):\n",
    "    h = 1160\n",
    "    s = 100\n",
    "    l = 50\n",
    "\n",
    "    return f'hsl({h}, {s}%, {l}%)'"
   ]
  },
  {
   "cell_type": "code",
   "execution_count": null,
   "metadata": {},
   "outputs": [],
   "source": [
    "one_color_func()"
   ]
  },
  {
   "cell_type": "code",
   "execution_count": null,
   "metadata": {},
   "outputs": [],
   "source": [
    "plt.figure(figsize=(14,12))\n",
    "plt.imshow(wc.recolor(color_func=one_color_func), interpolation=\"bilinear\")\n",
    "plt.axis(\"off\")\n",
    "plt.tight_layout()"
   ]
  },
  {
   "cell_type": "code",
   "execution_count": null,
   "metadata": {},
   "outputs": [],
   "source": [
    "plt.figure(figsize=(14,12))\n",
    "plt.imshow(wc.recolor(colormap='Pastel1'), interpolation=\"bilinear\")\n",
    "plt.axis(\"off\")\n",
    "plt.tight_layout()"
   ]
  },
  {
   "cell_type": "code",
   "execution_count": null,
   "metadata": {},
   "outputs": [],
   "source": [
    "# remove punctuation from words in word cloud"
   ]
  },
  {
   "cell_type": "code",
   "execution_count": null,
   "metadata": {},
   "outputs": [],
   "source": [
    "# big thanks to this guy: https://towardsdatascience.com/create-word-cloud-into-any-shape-you-want-using-python-d0b88834bc32"
   ]
  },
  {
   "cell_type": "code",
   "execution_count": null,
   "metadata": {},
   "outputs": [],
   "source": [
    "# big thanks to this guy: https://hslpicker.com/#ff1a1a"
   ]
  }
 ],
 "metadata": {
  "kernelspec": {
   "display_name": "Python 3",
   "language": "python",
   "name": "python3"
  },
  "language_info": {
   "codemirror_mode": {
    "name": "ipython",
    "version": 3
   },
   "file_extension": ".py",
   "mimetype": "text/x-python",
   "name": "python",
   "nbconvert_exporter": "python",
   "pygments_lexer": "ipython3",
   "version": "3.7.6"
  }
 },
 "nbformat": 4,
 "nbformat_minor": 4
}
