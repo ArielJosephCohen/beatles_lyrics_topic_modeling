{
 "cells": [
  {
   "cell_type": "code",
   "execution_count": 1,
   "metadata": {},
   "outputs": [],
   "source": [
    "import numpy as np"
   ]
  },
  {
   "cell_type": "code",
   "execution_count": 2,
   "metadata": {},
   "outputs": [],
   "source": [
    "l = np.load(\"songs_links.npz\")\n",
    "songs_links = l['arr_0']"
   ]
  },
  {
   "cell_type": "code",
   "execution_count": 3,
   "metadata": {},
   "outputs": [
    {
     "data": {
      "text/plain": [
       "array(['https://www.lyricsfreak.com/b/beatles/1822_20715201.html',\n",
       "       'https://www.lyricsfreak.com/b/beatles/a+day+in+the+life_10026556.html',\n",
       "       'https://www.lyricsfreak.com/b/beatles/a+hard+days+night_10026465.html',\n",
       "       'https://www.lyricsfreak.com/b/beatles/a+little+rhyme_20679608.html',\n",
       "       'https://www.lyricsfreak.com/b/beatles/a+shot+of+rhythm+blues_20014867.html'],\n",
       "      dtype='<U108')"
      ]
     },
     "execution_count": 3,
     "metadata": {},
     "output_type": "execute_result"
    }
   ],
   "source": [
    "songs_links[0:5]"
   ]
  },
  {
   "cell_type": "code",
   "execution_count": 4,
   "metadata": {},
   "outputs": [],
   "source": [
    "songs_links=list(songs_links[0:5])"
   ]
  },
  {
   "cell_type": "code",
   "execution_count": 5,
   "metadata": {},
   "outputs": [
    {
     "data": {
      "text/plain": [
       "['https://www.lyricsfreak.com/b/beatles/1822_20715201.html',\n",
       " 'https://www.lyricsfreak.com/b/beatles/a+day+in+the+life_10026556.html',\n",
       " 'https://www.lyricsfreak.com/b/beatles/a+hard+days+night_10026465.html',\n",
       " 'https://www.lyricsfreak.com/b/beatles/a+little+rhyme_20679608.html',\n",
       " 'https://www.lyricsfreak.com/b/beatles/a+shot+of+rhythm+blues_20014867.html']"
      ]
     },
     "execution_count": 5,
     "metadata": {},
     "output_type": "execute_result"
    }
   ],
   "source": [
    "songs_links[0:5]"
   ]
  },
  {
   "cell_type": "code",
   "execution_count": 6,
   "metadata": {},
   "outputs": [],
   "source": [
    "#imports\n",
    "import requests\n",
    "import urllib.request\n",
    "import time\n",
    "from bs4 import BeautifulSoup\n",
    "import pandas as pd\n",
    "from urllib.request import urlopen\n",
    "# getting ready to work with wikipedia - will be using pink floyd the wall as template\n",
    "url = songs_links[1]\n",
    "html = urlopen(url) \n",
    "soup = BeautifulSoup(html, 'html.parser')"
   ]
  },
  {
   "cell_type": "code",
   "execution_count": 7,
   "metadata": {},
   "outputs": [
    {
     "data": {
      "text/plain": [
       "<div class=\"lyrictxt js-lyrics js-share-text-content\" data-container-id=\"lyrics\" data-song-id=\"2132\" data-title=\"The Beatles\" id=\"content\" style=\"position: relative; padding: 0px 10px 0px 10px;\">\n",
       "                    I read the news today oh, boy<br/>\n",
       "About a lucky man who made the grade<br/>\n",
       "And though the news was rather sad<br/>\n",
       "Well, I just had to laugh<br/>\n",
       "I saw the photograph<br/>\n",
       "He blew his mind out in a car<br/>\n",
       "He didn't notice that the lights had changed<br/>\n",
       "A crowd of people stood and stared<br/>\n",
       "They'd seen his face before<br/>\n",
       "Nobody was really sure if he was from the house of lords<br/>\n",
       "<br/>\n",
       "I saw a film today oh, boy<br/>\n",
       "The english army had just won the war<br/>\n",
       "A crowd of people turned away<br/>\n",
       "But I just had to look<br/>\n",
       "Having read the book<br/>\n",
       "I'd love to turn you on.<br/>\n",
       "<br/>\n",
       "Woke up, fell out of bed<br/>\n",
       "Dragged a comb across my head<br/>\n",
       "Found my way downstairs and drank a cup<br/>\n",
       "And looking up, I noticed I was late<br/>\n",
       "Found my coat and grabbed my hat<br/>\n",
       "Made the bus in seconds flat<br/>\n",
       "Found my way upstairs and had a smoke<br/>\n",
       "And somebody spoke and I went into a dream<br/>\n",
       "Ah<br/>\n",
       "<br/>\n",
       "I read the news today oh, boy<br/>\n",
       "Four thousand holes in blackburn, lancashire<br/>\n",
       "And though the holes were rather small<br/>\n",
       "They had to count them all<br/>\n",
       "Now they know how many holes it takes to fill the albert hall<br/>\n",
       "I'd love to turn you on                </div>"
      ]
     },
     "execution_count": 7,
     "metadata": {},
     "output_type": "execute_result"
    }
   ],
   "source": [
    "soup.find_all('div',class_=\"lyrictxt js-lyrics js-share-text-content\")[0]"
   ]
  },
  {
   "cell_type": "code",
   "execution_count": 8,
   "metadata": {},
   "outputs": [],
   "source": [
    "a=soup.find_all('div',class_=\"lyrictxt js-lyrics js-share-text-content\")[0]"
   ]
  },
  {
   "cell_type": "code",
   "execution_count": 9,
   "metadata": {},
   "outputs": [
    {
     "data": {
      "text/plain": [
       "<div class=\"lyrictxt js-lyrics js-share-text-content\" data-container-id=\"lyrics\" data-song-id=\"2132\" data-title=\"The Beatles\" id=\"content\" style=\"position: relative; padding: 0px 10px 0px 10px;\">\n",
       "                    I read the news today oh, boy<br/>\n",
       "About a lucky man who made the grade<br/>\n",
       "And though the news was rather sad<br/>\n",
       "Well, I just had to laugh<br/>\n",
       "I saw the photograph<br/>\n",
       "He blew his mind out in a car<br/>\n",
       "He didn't notice that the lights had changed<br/>\n",
       "A crowd of people stood and stared<br/>\n",
       "They'd seen his face before<br/>\n",
       "Nobody was really sure if he was from the house of lords<br/>\n",
       "<br/>\n",
       "I saw a film today oh, boy<br/>\n",
       "The english army had just won the war<br/>\n",
       "A crowd of people turned away<br/>\n",
       "But I just had to look<br/>\n",
       "Having read the book<br/>\n",
       "I'd love to turn you on.<br/>\n",
       "<br/>\n",
       "Woke up, fell out of bed<br/>\n",
       "Dragged a comb across my head<br/>\n",
       "Found my way downstairs and drank a cup<br/>\n",
       "And looking up, I noticed I was late<br/>\n",
       "Found my coat and grabbed my hat<br/>\n",
       "Made the bus in seconds flat<br/>\n",
       "Found my way upstairs and had a smoke<br/>\n",
       "And somebody spoke and I went into a dream<br/>\n",
       "Ah<br/>\n",
       "<br/>\n",
       "I read the news today oh, boy<br/>\n",
       "Four thousand holes in blackburn, lancashire<br/>\n",
       "And though the holes were rather small<br/>\n",
       "They had to count them all<br/>\n",
       "Now they know how many holes it takes to fill the albert hall<br/>\n",
       "I'd love to turn you on                </div>"
      ]
     },
     "execution_count": 9,
     "metadata": {},
     "output_type": "execute_result"
    }
   ],
   "source": [
    "a"
   ]
  },
  {
   "cell_type": "code",
   "execution_count": 10,
   "metadata": {},
   "outputs": [
    {
     "data": {
      "text/plain": [
       "'\\nI read the news today oh, boy'"
      ]
     },
     "execution_count": 10,
     "metadata": {},
     "output_type": "execute_result"
    }
   ],
   "source": [
    "list(a)[0].replace('  ','')"
   ]
  },
  {
   "cell_type": "code",
   "execution_count": 11,
   "metadata": {},
   "outputs": [
    {
     "data": {
      "text/plain": [
       "'\\nAbout a lucky man who made the grade'"
      ]
     },
     "execution_count": 11,
     "metadata": {},
     "output_type": "execute_result"
    }
   ],
   "source": [
    "list(a)[2].replace('  ','')"
   ]
  },
  {
   "cell_type": "code",
   "execution_count": 12,
   "metadata": {},
   "outputs": [],
   "source": [
    "day_life_lyrics=[]\n",
    "\n",
    "count=0\n",
    "\n",
    "for i in list(a):\n",
    "    try:\n",
    "        day_life_lyrics.append(i.replace('  ','')[1:])\n",
    "    except:\n",
    "         count=count+1"
   ]
  },
  {
   "cell_type": "code",
   "execution_count": 13,
   "metadata": {},
   "outputs": [
    {
     "data": {
      "text/plain": [
       "['I read the news today oh, boy',\n",
       " 'About a lucky man who made the grade',\n",
       " 'And though the news was rather sad',\n",
       " 'Well, I just had to laugh',\n",
       " 'I saw the photograph',\n",
       " 'He blew his mind out in a car',\n",
       " \"He didn't notice that the lights had changed\",\n",
       " 'A crowd of people stood and stared',\n",
       " \"They'd seen his face before\",\n",
       " 'Nobody was really sure if he was from the house of lords',\n",
       " '',\n",
       " 'I saw a film today oh, boy',\n",
       " 'The english army had just won the war',\n",
       " 'A crowd of people turned away',\n",
       " 'But I just had to look',\n",
       " 'Having read the book',\n",
       " \"I'd love to turn you on.\",\n",
       " '',\n",
       " 'Woke up, fell out of bed',\n",
       " 'Dragged a comb across my head',\n",
       " 'Found my way downstairs and drank a cup',\n",
       " 'And looking up, I noticed I was late',\n",
       " 'Found my coat and grabbed my hat',\n",
       " 'Made the bus in seconds flat',\n",
       " 'Found my way upstairs and had a smoke',\n",
       " 'And somebody spoke and I went into a dream',\n",
       " 'Ah',\n",
       " '',\n",
       " 'I read the news today oh, boy',\n",
       " 'Four thousand holes in blackburn, lancashire',\n",
       " 'And though the holes were rather small',\n",
       " 'They had to count them all',\n",
       " 'Now they know how many holes it takes to fill the albert hall',\n",
       " \"I'd love to turn you on\"]"
      ]
     },
     "execution_count": 13,
     "metadata": {},
     "output_type": "execute_result"
    }
   ],
   "source": [
    "day_life_lyrics"
   ]
  },
  {
   "cell_type": "code",
   "execution_count": 14,
   "metadata": {},
   "outputs": [
    {
     "data": {
      "text/plain": [
       "['I read the news today oh, boy',\n",
       " 'About a lucky man who made the grade',\n",
       " 'And though the news was rather sad',\n",
       " 'Well, I just had to laugh',\n",
       " 'I saw the photograph',\n",
       " 'He blew his mind out in a car',\n",
       " \"He didn't notice that the lights had changed\",\n",
       " 'A crowd of people stood and stared',\n",
       " \"They'd seen his face before\",\n",
       " 'Nobody was really sure if he was from the house of lords',\n",
       " '',\n",
       " 'I saw a film today oh, boy',\n",
       " 'The english army had just won the war',\n",
       " 'A crowd of people turned away',\n",
       " 'But I just had to look',\n",
       " 'Having read the book',\n",
       " \"I'd love to turn you on.\",\n",
       " '',\n",
       " 'Woke up, fell out of bed',\n",
       " 'Dragged a comb across my head',\n",
       " 'Found my way downstairs and drank a cup',\n",
       " 'And looking up, I noticed I was late',\n",
       " 'Found my coat and grabbed my hat',\n",
       " 'Made the bus in seconds flat',\n",
       " 'Found my way upstairs and had a smoke',\n",
       " 'And somebody spoke and I went into a dream',\n",
       " 'Ah',\n",
       " '',\n",
       " 'I read the news today oh, boy',\n",
       " 'Four thousand holes in blackburn, lancashire',\n",
       " 'And though the holes were rather small',\n",
       " 'They had to count them all',\n",
       " 'Now they know how many holes it takes to fill the albert hall',\n",
       " \"I'd love to turn you on\"]"
      ]
     },
     "execution_count": 14,
     "metadata": {},
     "output_type": "execute_result"
    }
   ],
   "source": [
    "day_life_lyrics[0:34]"
   ]
  },
  {
   "cell_type": "code",
   "execution_count": 15,
   "metadata": {},
   "outputs": [],
   "source": [
    "day_life_lyrics_blur=[lyr for lyr in day_life_lyrics if lyr!='']"
   ]
  },
  {
   "cell_type": "code",
   "execution_count": 16,
   "metadata": {},
   "outputs": [
    {
     "data": {
      "text/plain": [
       "['I read the news today oh, boy',\n",
       " 'About a lucky man who made the grade',\n",
       " 'And though the news was rather sad',\n",
       " 'Well, I just had to laugh',\n",
       " 'I saw the photograph',\n",
       " 'He blew his mind out in a car',\n",
       " \"He didn't notice that the lights had changed\",\n",
       " 'A crowd of people stood and stared',\n",
       " \"They'd seen his face before\",\n",
       " 'Nobody was really sure if he was from the house of lords',\n",
       " 'I saw a film today oh, boy',\n",
       " 'The english army had just won the war',\n",
       " 'A crowd of people turned away',\n",
       " 'But I just had to look',\n",
       " 'Having read the book',\n",
       " \"I'd love to turn you on.\",\n",
       " 'Woke up, fell out of bed',\n",
       " 'Dragged a comb across my head',\n",
       " 'Found my way downstairs and drank a cup',\n",
       " 'And looking up, I noticed I was late',\n",
       " 'Found my coat and grabbed my hat',\n",
       " 'Made the bus in seconds flat',\n",
       " 'Found my way upstairs and had a smoke',\n",
       " 'And somebody spoke and I went into a dream',\n",
       " 'Ah',\n",
       " 'I read the news today oh, boy',\n",
       " 'Four thousand holes in blackburn, lancashire',\n",
       " 'And though the holes were rather small',\n",
       " 'They had to count them all',\n",
       " 'Now they know how many holes it takes to fill the albert hall',\n",
       " \"I'd love to turn you on\"]"
      ]
     },
     "execution_count": 16,
     "metadata": {},
     "output_type": "execute_result"
    }
   ],
   "source": [
    "day_life_lyrics_blur"
   ]
  },
  {
   "cell_type": "code",
   "execution_count": 17,
   "metadata": {},
   "outputs": [],
   "source": [
    "day_life_lyrics_clear=[lyr for lyr in day_life_lyrics[0:34] if lyr!='']"
   ]
  },
  {
   "cell_type": "code",
   "execution_count": 18,
   "metadata": {},
   "outputs": [
    {
     "data": {
      "text/plain": [
       "['I read the news today oh, boy',\n",
       " 'About a lucky man who made the grade',\n",
       " 'And though the news was rather sad',\n",
       " 'Well, I just had to laugh',\n",
       " 'I saw the photograph',\n",
       " 'He blew his mind out in a car',\n",
       " \"He didn't notice that the lights had changed\",\n",
       " 'A crowd of people stood and stared',\n",
       " \"They'd seen his face before\",\n",
       " 'Nobody was really sure if he was from the house of lords',\n",
       " 'I saw a film today oh, boy',\n",
       " 'The english army had just won the war',\n",
       " 'A crowd of people turned away',\n",
       " 'But I just had to look',\n",
       " 'Having read the book',\n",
       " \"I'd love to turn you on.\",\n",
       " 'Woke up, fell out of bed',\n",
       " 'Dragged a comb across my head',\n",
       " 'Found my way downstairs and drank a cup',\n",
       " 'And looking up, I noticed I was late',\n",
       " 'Found my coat and grabbed my hat',\n",
       " 'Made the bus in seconds flat',\n",
       " 'Found my way upstairs and had a smoke',\n",
       " 'And somebody spoke and I went into a dream',\n",
       " 'Ah',\n",
       " 'I read the news today oh, boy',\n",
       " 'Four thousand holes in blackburn, lancashire',\n",
       " 'And though the holes were rather small',\n",
       " 'They had to count them all',\n",
       " 'Now they know how many holes it takes to fill the albert hall',\n",
       " \"I'd love to turn you on\"]"
      ]
     },
     "execution_count": 18,
     "metadata": {},
     "output_type": "execute_result"
    }
   ],
   "source": [
    "day_life_lyrics_clear"
   ]
  },
  {
   "cell_type": "code",
   "execution_count": null,
   "metadata": {},
   "outputs": [],
   "source": []
  }
 ],
 "metadata": {
  "kernelspec": {
   "display_name": "Python 3",
   "language": "python",
   "name": "python3"
  },
  "language_info": {
   "codemirror_mode": {
    "name": "ipython",
    "version": 3
   },
   "file_extension": ".py",
   "mimetype": "text/x-python",
   "name": "python",
   "nbconvert_exporter": "python",
   "pygments_lexer": "ipython3",
   "version": "3.7.6"
  }
 },
 "nbformat": 4,
 "nbformat_minor": 4
}
