{
 "cells": [
  {
   "cell_type": "code",
   "execution_count": 1,
   "metadata": {},
   "outputs": [],
   "source": [
    "#imports\n",
    "import requests\n",
    "import urllib.request\n",
    "import time\n",
    "from bs4 import BeautifulSoup\n",
    "import numpy as np\n",
    "import pandas as pd\n",
    "from urllib.request import urlopen\n",
    "# getting ready to work with wikipedia - will be using pink floyd the wall as template\n",
    "url = 'https://www.azlyrics.com//lyrics/beatles/isawherstandingthere.html'\n",
    "html = urlopen(url) \n",
    "soup = BeautifulSoup(html, 'html.parser')"
   ]
  },
  {
   "cell_type": "code",
   "execution_count": 2,
   "metadata": {},
   "outputs": [],
   "source": [
    "l = np.load(\"songs_links.npz\")\n",
    "songs_links = l['arr_0']"
   ]
  },
  {
   "cell_type": "code",
   "execution_count": 5,
   "metadata": {},
   "outputs": [
    {
     "data": {
      "text/plain": [
       "array(['https://www.lyricsfreak.com/b/beatles/1822_20715201.html',\n",
       "       'https://www.lyricsfreak.com/b/beatles/a+day+in+the+life_10026556.html',\n",
       "       'https://www.lyricsfreak.com/b/beatles/a+hard+days+night_10026465.html',\n",
       "       'https://www.lyricsfreak.com/b/beatles/a+little+rhyme_20679608.html',\n",
       "       'https://www.lyricsfreak.com/b/beatles/a+shot+of+rhythm+blues_20014867.html'],\n",
       "      dtype='<U108')"
      ]
     },
     "execution_count": 5,
     "metadata": {},
     "output_type": "execute_result"
    }
   ],
   "source": [
    "songs_links[0:5]"
   ]
  },
  {
   "cell_type": "code",
   "execution_count": 6,
   "metadata": {},
   "outputs": [],
   "source": [
    "songs_links=list(songs_links[0:5])"
   ]
  },
  {
   "cell_type": "code",
   "execution_count": 7,
   "metadata": {},
   "outputs": [
    {
     "data": {
      "text/plain": [
       "['https://www.lyricsfreak.com/b/beatles/1822_20715201.html',\n",
       " 'https://www.lyricsfreak.com/b/beatles/a+day+in+the+life_10026556.html',\n",
       " 'https://www.lyricsfreak.com/b/beatles/a+hard+days+night_10026465.html',\n",
       " 'https://www.lyricsfreak.com/b/beatles/a+little+rhyme_20679608.html',\n",
       " 'https://www.lyricsfreak.com/b/beatles/a+shot+of+rhythm+blues_20014867.html']"
      ]
     },
     "execution_count": 7,
     "metadata": {},
     "output_type": "execute_result"
    }
   ],
   "source": [
    "songs_links[0:5]"
   ]
  },
  {
   "cell_type": "code",
   "execution_count": null,
   "metadata": {},
   "outputs": [],
   "source": []
  }
 ],
 "metadata": {
  "kernelspec": {
   "display_name": "Python 3",
   "language": "python",
   "name": "python3"
  },
  "language_info": {
   "codemirror_mode": {
    "name": "ipython",
    "version": 3
   },
   "file_extension": ".py",
   "mimetype": "text/x-python",
   "name": "python",
   "nbconvert_exporter": "python",
   "pygments_lexer": "ipython3",
   "version": "3.7.6"
  }
 },
 "nbformat": 4,
 "nbformat_minor": 4
}
