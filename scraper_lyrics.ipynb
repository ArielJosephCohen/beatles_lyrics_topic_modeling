{
 "cells": [
  {
   "cell_type": "code",
   "execution_count": 1,
   "metadata": {},
   "outputs": [],
   "source": [
    "import warnings\n",
    "warnings.filterwarnings('ignore')"
   ]
  },
  {
   "cell_type": "code",
   "execution_count": 2,
   "metadata": {},
   "outputs": [],
   "source": [
    "import numpy as np"
   ]
  },
  {
   "cell_type": "code",
   "execution_count": 3,
   "metadata": {},
   "outputs": [],
   "source": [
    "l = np.load(\"songs_links.npz\")\n",
    "songs_links = l['arr_0']"
   ]
  },
  {
   "cell_type": "code",
   "execution_count": 4,
   "metadata": {},
   "outputs": [
    {
     "data": {
      "text/plain": [
       "array(['https://www.lyricsfreak.com/b/beatles/1822_20715201.html',\n",
       "       'https://www.lyricsfreak.com/b/beatles/a+day+in+the+life_10026556.html',\n",
       "       'https://www.lyricsfreak.com/b/beatles/a+hard+days+night_10026465.html',\n",
       "       'https://www.lyricsfreak.com/b/beatles/a+little+rhyme_20679608.html',\n",
       "       'https://www.lyricsfreak.com/b/beatles/a+shot+of+rhythm+blues_20014867.html'],\n",
       "      dtype='<U108')"
      ]
     },
     "execution_count": 4,
     "metadata": {},
     "output_type": "execute_result"
    }
   ],
   "source": [
    "songs_links[0:5]"
   ]
  },
  {
   "cell_type": "code",
   "execution_count": 5,
   "metadata": {},
   "outputs": [],
   "source": [
    "songs_links=list(songs_links[0:5])"
   ]
  },
  {
   "cell_type": "code",
   "execution_count": 6,
   "metadata": {},
   "outputs": [
    {
     "data": {
      "text/plain": [
       "['https://www.lyricsfreak.com/b/beatles/1822_20715201.html',\n",
       " 'https://www.lyricsfreak.com/b/beatles/a+day+in+the+life_10026556.html',\n",
       " 'https://www.lyricsfreak.com/b/beatles/a+hard+days+night_10026465.html',\n",
       " 'https://www.lyricsfreak.com/b/beatles/a+little+rhyme_20679608.html',\n",
       " 'https://www.lyricsfreak.com/b/beatles/a+shot+of+rhythm+blues_20014867.html']"
      ]
     },
     "execution_count": 6,
     "metadata": {},
     "output_type": "execute_result"
    }
   ],
   "source": [
    "songs_links[0:5]"
   ]
  },
  {
   "cell_type": "code",
   "execution_count": 10,
   "metadata": {},
   "outputs": [],
   "source": [
    "#imports\n",
    "import requests\n",
    "import urllib.request\n",
    "import time\n",
    "from bs4 import BeautifulSoup\n",
    "import pandas as pd\n",
    "from urllib.request import urlopen\n",
    "# getting ready to work with wikipedia - will be using pink floyd the wall as template\n",
    "url = songs_links[2]\n",
    "html = urlopen(url) \n",
    "soup = BeautifulSoup(html, 'html.parser')"
   ]
  },
  {
   "cell_type": "code",
   "execution_count": 11,
   "metadata": {},
   "outputs": [
    {
     "data": {
      "text/plain": [
       "<div class=\"lyrictxt js-lyrics js-share-text-content\" data-container-id=\"lyrics\" data-song-id=\"2131\" data-title=\"The Beatles\" id=\"content\" style=\"position: relative; padding: 0px 10px 0px 10px;\">\n",
       "                    It's been a hard day's night, and I've been working like a dog<br/>\n",
       "It's been a hard day's night, I should be sleeping like a log<br/>\n",
       "But when I get home to you I find the things that you do<br/>\n",
       "Will make me feel alright<br/>\n",
       "<br/>\n",
       "You know I work all day to get you money to buy you things<br/>\n",
       "And it's worth it just to hear you say you're going to give me everything<br/>\n",
       "So why on earth should I moan, 'cause when I get you alone<br/>\n",
       "You know I feel ok<br/>\n",
       "<br/>\n",
       "When I'm home everything seems to be right<br/>\n",
       "When I'm home feeling you holding me tight, tight, yeah<br/>\n",
       "<br/>\n",
       "It's been a hard day's night, and I've been working like a dog<br/>\n",
       "It's been a hard day's night, I should be sleeping like a log<br/>\n",
       "But when I get home to you I find the things that you do<br/>\n",
       "Will make me feel alright<br/>\n",
       "<br/>\n",
       "Owww!<br/>\n",
       "<br/>\n",
       "So why on earth should I moan, 'cause when I get you alone<br/>\n",
       "You know I feel lover well.<br/>\n",
       "<br/>\n",
       "When I'm home everything seems to be right<br/>\n",
       "When I'm home feeling you holding me tight, tight, yeah<br/>\n",
       "<br/>\n",
       "Oh, it's been a hard day's night, and I've been working like a dog<br/>\n",
       "It's been a hard day's night, I should be sleeping like a log<br/>\n",
       "But when I get home to you I find the things that you do<br/>\n",
       "Will make me feel alright<br/>\n",
       "<br/>\n",
       "You know I feel alright<br/>\n",
       "You know I feel alright                </div>"
      ]
     },
     "execution_count": 11,
     "metadata": {},
     "output_type": "execute_result"
    }
   ],
   "source": [
    "soup.find_all('div',class_=\"lyrictxt js-lyrics js-share-text-content\")[0]"
   ]
  },
  {
   "cell_type": "code",
   "execution_count": 12,
   "metadata": {},
   "outputs": [],
   "source": [
    "a=soup.find_all('div',class_=\"lyrictxt js-lyrics js-share-text-content\")[0]"
   ]
  },
  {
   "cell_type": "code",
   "execution_count": 13,
   "metadata": {},
   "outputs": [
    {
     "data": {
      "text/plain": [
       "<div class=\"lyrictxt js-lyrics js-share-text-content\" data-container-id=\"lyrics\" data-song-id=\"2131\" data-title=\"The Beatles\" id=\"content\" style=\"position: relative; padding: 0px 10px 0px 10px;\">\n",
       "                    It's been a hard day's night, and I've been working like a dog<br/>\n",
       "It's been a hard day's night, I should be sleeping like a log<br/>\n",
       "But when I get home to you I find the things that you do<br/>\n",
       "Will make me feel alright<br/>\n",
       "<br/>\n",
       "You know I work all day to get you money to buy you things<br/>\n",
       "And it's worth it just to hear you say you're going to give me everything<br/>\n",
       "So why on earth should I moan, 'cause when I get you alone<br/>\n",
       "You know I feel ok<br/>\n",
       "<br/>\n",
       "When I'm home everything seems to be right<br/>\n",
       "When I'm home feeling you holding me tight, tight, yeah<br/>\n",
       "<br/>\n",
       "It's been a hard day's night, and I've been working like a dog<br/>\n",
       "It's been a hard day's night, I should be sleeping like a log<br/>\n",
       "But when I get home to you I find the things that you do<br/>\n",
       "Will make me feel alright<br/>\n",
       "<br/>\n",
       "Owww!<br/>\n",
       "<br/>\n",
       "So why on earth should I moan, 'cause when I get you alone<br/>\n",
       "You know I feel lover well.<br/>\n",
       "<br/>\n",
       "When I'm home everything seems to be right<br/>\n",
       "When I'm home feeling you holding me tight, tight, yeah<br/>\n",
       "<br/>\n",
       "Oh, it's been a hard day's night, and I've been working like a dog<br/>\n",
       "It's been a hard day's night, I should be sleeping like a log<br/>\n",
       "But when I get home to you I find the things that you do<br/>\n",
       "Will make me feel alright<br/>\n",
       "<br/>\n",
       "You know I feel alright<br/>\n",
       "You know I feel alright                </div>"
      ]
     },
     "execution_count": 13,
     "metadata": {},
     "output_type": "execute_result"
    }
   ],
   "source": [
    "a"
   ]
  },
  {
   "cell_type": "code",
   "execution_count": 14,
   "metadata": {},
   "outputs": [
    {
     "data": {
      "text/plain": [
       "\"\\nIt's been a hard day's night, and I've been working like a dog\""
      ]
     },
     "execution_count": 14,
     "metadata": {},
     "output_type": "execute_result"
    }
   ],
   "source": [
    "list(a)[0].replace('  ','')"
   ]
  },
  {
   "cell_type": "code",
   "execution_count": 15,
   "metadata": {},
   "outputs": [
    {
     "data": {
      "text/plain": [
       "\"\\nIt's been a hard day's night, I should be sleeping like a log\""
      ]
     },
     "execution_count": 15,
     "metadata": {},
     "output_type": "execute_result"
    }
   ],
   "source": [
    "list(a)[2].replace('  ','')"
   ]
  },
  {
   "cell_type": "code",
   "execution_count": 16,
   "metadata": {},
   "outputs": [],
   "source": [
    "day_life_lyrics=[]\n",
    "\n",
    "count=0\n",
    "\n",
    "for i in list(a):\n",
    "    try:\n",
    "        day_life_lyrics.append(i.replace('  ','')[1:])\n",
    "    except:\n",
    "         count=count+1"
   ]
  },
  {
   "cell_type": "code",
   "execution_count": 17,
   "metadata": {},
   "outputs": [
    {
     "data": {
      "text/plain": [
       "[\"It's been a hard day's night, and I've been working like a dog\",\n",
       " \"It's been a hard day's night, I should be sleeping like a log\",\n",
       " 'But when I get home to you I find the things that you do',\n",
       " 'Will make me feel alright',\n",
       " '',\n",
       " 'You know I work all day to get you money to buy you things',\n",
       " \"And it's worth it just to hear you say you're going to give me everything\",\n",
       " \"So why on earth should I moan, 'cause when I get you alone\",\n",
       " 'You know I feel ok',\n",
       " '',\n",
       " \"When I'm home everything seems to be right\",\n",
       " \"When I'm home feeling you holding me tight, tight, yeah\",\n",
       " '',\n",
       " \"It's been a hard day's night, and I've been working like a dog\",\n",
       " \"It's been a hard day's night, I should be sleeping like a log\",\n",
       " 'But when I get home to you I find the things that you do',\n",
       " 'Will make me feel alright',\n",
       " '',\n",
       " 'Owww!',\n",
       " '',\n",
       " \"So why on earth should I moan, 'cause when I get you alone\",\n",
       " 'You know I feel lover well.',\n",
       " '',\n",
       " \"When I'm home everything seems to be right\",\n",
       " \"When I'm home feeling you holding me tight, tight, yeah\",\n",
       " '',\n",
       " \"Oh, it's been a hard day's night, and I've been working like a dog\",\n",
       " \"It's been a hard day's night, I should be sleeping like a log\",\n",
       " 'But when I get home to you I find the things that you do',\n",
       " 'Will make me feel alright',\n",
       " '',\n",
       " 'You know I feel alright',\n",
       " 'You know I feel alright']"
      ]
     },
     "execution_count": 17,
     "metadata": {},
     "output_type": "execute_result"
    }
   ],
   "source": [
    "day_life_lyrics"
   ]
  },
  {
   "cell_type": "code",
   "execution_count": 18,
   "metadata": {},
   "outputs": [
    {
     "data": {
      "text/plain": [
       "[\"It's been a hard day's night, and I've been working like a dog\",\n",
       " \"It's been a hard day's night, I should be sleeping like a log\",\n",
       " 'But when I get home to you I find the things that you do',\n",
       " 'Will make me feel alright',\n",
       " '',\n",
       " 'You know I work all day to get you money to buy you things',\n",
       " \"And it's worth it just to hear you say you're going to give me everything\",\n",
       " \"So why on earth should I moan, 'cause when I get you alone\",\n",
       " 'You know I feel ok',\n",
       " '',\n",
       " \"When I'm home everything seems to be right\",\n",
       " \"When I'm home feeling you holding me tight, tight, yeah\",\n",
       " '',\n",
       " \"It's been a hard day's night, and I've been working like a dog\",\n",
       " \"It's been a hard day's night, I should be sleeping like a log\",\n",
       " 'But when I get home to you I find the things that you do',\n",
       " 'Will make me feel alright',\n",
       " '',\n",
       " 'Owww!',\n",
       " '',\n",
       " \"So why on earth should I moan, 'cause when I get you alone\",\n",
       " 'You know I feel lover well.',\n",
       " '',\n",
       " \"When I'm home everything seems to be right\",\n",
       " \"When I'm home feeling you holding me tight, tight, yeah\",\n",
       " '',\n",
       " \"Oh, it's been a hard day's night, and I've been working like a dog\",\n",
       " \"It's been a hard day's night, I should be sleeping like a log\",\n",
       " 'But when I get home to you I find the things that you do',\n",
       " 'Will make me feel alright',\n",
       " '',\n",
       " 'You know I feel alright',\n",
       " 'You know I feel alright']"
      ]
     },
     "execution_count": 18,
     "metadata": {},
     "output_type": "execute_result"
    }
   ],
   "source": [
    "day_life_lyrics[0:34]"
   ]
  },
  {
   "cell_type": "code",
   "execution_count": 19,
   "metadata": {},
   "outputs": [],
   "source": [
    "day_life_lyrics_blur=[lyr for lyr in day_life_lyrics if lyr!='']"
   ]
  },
  {
   "cell_type": "code",
   "execution_count": 20,
   "metadata": {},
   "outputs": [
    {
     "data": {
      "text/plain": [
       "[\"It's been a hard day's night, and I've been working like a dog\",\n",
       " \"It's been a hard day's night, I should be sleeping like a log\",\n",
       " 'But when I get home to you I find the things that you do',\n",
       " 'Will make me feel alright',\n",
       " 'You know I work all day to get you money to buy you things',\n",
       " \"And it's worth it just to hear you say you're going to give me everything\",\n",
       " \"So why on earth should I moan, 'cause when I get you alone\",\n",
       " 'You know I feel ok',\n",
       " \"When I'm home everything seems to be right\",\n",
       " \"When I'm home feeling you holding me tight, tight, yeah\",\n",
       " \"It's been a hard day's night, and I've been working like a dog\",\n",
       " \"It's been a hard day's night, I should be sleeping like a log\",\n",
       " 'But when I get home to you I find the things that you do',\n",
       " 'Will make me feel alright',\n",
       " 'Owww!',\n",
       " \"So why on earth should I moan, 'cause when I get you alone\",\n",
       " 'You know I feel lover well.',\n",
       " \"When I'm home everything seems to be right\",\n",
       " \"When I'm home feeling you holding me tight, tight, yeah\",\n",
       " \"Oh, it's been a hard day's night, and I've been working like a dog\",\n",
       " \"It's been a hard day's night, I should be sleeping like a log\",\n",
       " 'But when I get home to you I find the things that you do',\n",
       " 'Will make me feel alright',\n",
       " 'You know I feel alright',\n",
       " 'You know I feel alright']"
      ]
     },
     "execution_count": 20,
     "metadata": {},
     "output_type": "execute_result"
    }
   ],
   "source": [
    "day_life_lyrics_blur"
   ]
  },
  {
   "cell_type": "code",
   "execution_count": 21,
   "metadata": {},
   "outputs": [],
   "source": [
    "day_life_lyrics_clear=[lyr for lyr in day_life_lyrics[0:34] if lyr!='']"
   ]
  },
  {
   "cell_type": "code",
   "execution_count": 22,
   "metadata": {},
   "outputs": [
    {
     "data": {
      "text/plain": [
       "[\"It's been a hard day's night, and I've been working like a dog\",\n",
       " \"It's been a hard day's night, I should be sleeping like a log\",\n",
       " 'But when I get home to you I find the things that you do',\n",
       " 'Will make me feel alright',\n",
       " 'You know I work all day to get you money to buy you things',\n",
       " \"And it's worth it just to hear you say you're going to give me everything\",\n",
       " \"So why on earth should I moan, 'cause when I get you alone\",\n",
       " 'You know I feel ok',\n",
       " \"When I'm home everything seems to be right\",\n",
       " \"When I'm home feeling you holding me tight, tight, yeah\",\n",
       " \"It's been a hard day's night, and I've been working like a dog\",\n",
       " \"It's been a hard day's night, I should be sleeping like a log\",\n",
       " 'But when I get home to you I find the things that you do',\n",
       " 'Will make me feel alright',\n",
       " 'Owww!',\n",
       " \"So why on earth should I moan, 'cause when I get you alone\",\n",
       " 'You know I feel lover well.',\n",
       " \"When I'm home everything seems to be right\",\n",
       " \"When I'm home feeling you holding me tight, tight, yeah\",\n",
       " \"Oh, it's been a hard day's night, and I've been working like a dog\",\n",
       " \"It's been a hard day's night, I should be sleeping like a log\",\n",
       " 'But when I get home to you I find the things that you do',\n",
       " 'Will make me feel alright',\n",
       " 'You know I feel alright',\n",
       " 'You know I feel alright']"
      ]
     },
     "execution_count": 22,
     "metadata": {},
     "output_type": "execute_result"
    }
   ],
   "source": [
    "day_life_lyrics_clear"
   ]
  }
 ],
 "metadata": {
  "kernelspec": {
   "display_name": "Python 3",
   "language": "python",
   "name": "python3"
  },
  "language_info": {
   "codemirror_mode": {
    "name": "ipython",
    "version": 3
   },
   "file_extension": ".py",
   "mimetype": "text/x-python",
   "name": "python",
   "nbconvert_exporter": "python",
   "pygments_lexer": "ipython3",
   "version": "3.7.6"
  }
 },
 "nbformat": 4,
 "nbformat_minor": 4
}
