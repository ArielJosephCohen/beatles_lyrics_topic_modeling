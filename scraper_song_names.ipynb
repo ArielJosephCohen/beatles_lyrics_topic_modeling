{
 "cells": [
  {
   "cell_type": "code",
   "execution_count": 38,
   "metadata": {},
   "outputs": [],
   "source": [
    "#imports\n",
    "import requests\n",
    "import urllib.request\n",
    "import time\n",
    "from bs4 import BeautifulSoup\n",
    "import numpy as np\n",
    "import pandas as pd\n",
    "from urllib.request import urlopen\n",
    "# getting ready to work with wikipedia - will be using pink floyd the wall as template\n",
    "url = 'https://www.lyricsfreak.com/b/beatles/'\n",
    "html = urlopen(url) \n",
    "soup = BeautifulSoup(html, 'html.parser')"
   ]
  },
  {
   "cell_type": "code",
   "execution_count": 53,
   "metadata": {},
   "outputs": [],
   "source": [
    "songs=soup.find_all('div',class_=\"lf-list__cell lf-list__title lf-list__cell--full\")"
   ]
  },
  {
   "cell_type": "code",
   "execution_count": 54,
   "metadata": {},
   "outputs": [
    {
     "data": {
      "text/plain": [
       "[<div class=\"lf-list__cell lf-list__title lf-list__cell--full\">\n",
       " <a class=\"lf-link lf-link--primary\" href=\"/b/beatles/1822_20715201.html\" title=\"1822! Lyrics\">\n",
       "             1822! Lyrics\n",
       "         </a>\n",
       " </div>,\n",
       " <div class=\"lf-list__cell lf-list__title lf-list__cell--full\">\n",
       " <a class=\"lf-link lf-link--primary\" href=\"/b/beatles/a+day+in+the+life_10026556.html\" title=\"A Day In The Life Lyrics\">\n",
       "             A Day In The Life Lyrics\n",
       "         </a>\n",
       " </div>,\n",
       " <div class=\"lf-list__cell lf-list__title lf-list__cell--full\">\n",
       " <a class=\"lf-link lf-link--primary\" href=\"/b/beatles/a+hard+days+night_10026465.html\" title=\"A Hard Day's Night Lyrics\">\n",
       "             A Hard Day's Night Lyrics\n",
       "         </a>\n",
       " </div>,\n",
       " <div class=\"lf-list__cell lf-list__title lf-list__cell--full\">\n",
       " <a class=\"lf-link lf-link--primary\" href=\"/b/beatles/a+little+rhyme_20679608.html\" title=\"A Little Rhyme Lyrics\">\n",
       "             A Little Rhyme Lyrics\n",
       "         </a>\n",
       " </div>,\n",
       " <div class=\"lf-list__cell lf-list__title lf-list__cell--full\">\n",
       " <a class=\"lf-link lf-link--primary\" href=\"/b/beatles/a+shot+of+rhythm+blues_20014867.html\" title=\"A Shot Of Rhythm And Blues Lyrics\">\n",
       "             A Shot Of Rhythm And Blues Lyrics\n",
       "         </a>\n",
       " </div>]"
      ]
     },
     "execution_count": 54,
     "metadata": {},
     "output_type": "execute_result"
    }
   ],
   "source": [
    "songs[0:5]"
   ]
  },
  {
   "cell_type": "code",
   "execution_count": 55,
   "metadata": {},
   "outputs": [
    {
     "data": {
      "text/plain": [
       "<div class=\"lf-list__cell lf-list__title lf-list__cell--full\">\n",
       "<a class=\"lf-link lf-link--primary\" href=\"/b/beatles/1822_20715201.html\" title=\"1822! Lyrics\">\n",
       "            1822! Lyrics\n",
       "        </a>\n",
       "</div>"
      ]
     },
     "execution_count": 55,
     "metadata": {},
     "output_type": "execute_result"
    }
   ],
   "source": [
    "songs[0]"
   ]
  },
  {
   "cell_type": "code",
   "execution_count": 56,
   "metadata": {},
   "outputs": [
    {
     "data": {
      "text/plain": [
       "[<a class=\"lf-link lf-link--primary\" href=\"/b/beatles/1822_20715201.html\" title=\"1822! Lyrics\">\n",
       "             1822! Lyrics\n",
       "         </a>]"
      ]
     },
     "execution_count": 56,
     "metadata": {},
     "output_type": "execute_result"
    }
   ],
   "source": [
    "songs[0].find_all('a')"
   ]
  },
  {
   "cell_type": "code",
   "execution_count": 57,
   "metadata": {},
   "outputs": [
    {
     "data": {
      "text/plain": [
       "<a class=\"lf-link lf-link--primary\" href=\"/b/beatles/1822_20715201.html\" title=\"1822! Lyrics\">\n",
       "            1822! Lyrics\n",
       "        </a>"
      ]
     },
     "execution_count": 57,
     "metadata": {},
     "output_type": "execute_result"
    }
   ],
   "source": [
    "songs[0].find_all('a')[0]"
   ]
  },
  {
   "cell_type": "code",
   "execution_count": 59,
   "metadata": {},
   "outputs": [
    {
     "data": {
      "text/plain": [
       "'/b/beatles/1822_20715201.html'"
      ]
     },
     "execution_count": 59,
     "metadata": {},
     "output_type": "execute_result"
    }
   ],
   "source": [
    "songs[0].find_all('a')[0]['href']"
   ]
  },
  {
   "cell_type": "code",
   "execution_count": 62,
   "metadata": {},
   "outputs": [],
   "source": [
    "aa=songs[0].find_all('a')[0]['href'].replace('..','https://www.azlyrics.com/')"
   ]
  },
  {
   "cell_type": "code",
   "execution_count": 63,
   "metadata": {},
   "outputs": [
    {
     "data": {
      "text/plain": [
       "'/b/beatles/1822_20715201.html'"
      ]
     },
     "execution_count": 63,
     "metadata": {},
     "output_type": "execute_result"
    }
   ],
   "source": [
    "aa"
   ]
  },
  {
   "cell_type": "code",
   "execution_count": 64,
   "metadata": {},
   "outputs": [],
   "source": [
    "replace_text=\"https://www.lyricsfreak.com\""
   ]
  },
  {
   "cell_type": "code",
   "execution_count": 65,
   "metadata": {},
   "outputs": [
    {
     "data": {
      "text/plain": [
       "'https://www.lyricsfreak.com/b/beatles/1822_20715201.html'"
      ]
     },
     "execution_count": 65,
     "metadata": {},
     "output_type": "execute_result"
    }
   ],
   "source": [
    "replace_text+aa"
   ]
  },
  {
   "cell_type": "code",
   "execution_count": 69,
   "metadata": {},
   "outputs": [],
   "source": [
    "song_links = []\n",
    "\n",
    "for song in songs:\n",
    "    sl=song.find_all('a')[0]['href'].replace('..','https://www.azlyrics.com/')\n",
    "    sl=replace_text+sl\n",
    "    song_links.append(sl)"
   ]
  },
  {
   "cell_type": "code",
   "execution_count": 71,
   "metadata": {},
   "outputs": [
    {
     "data": {
      "text/plain": [
       "['https://www.lyricsfreak.com/b/beatles/1822_20715201.html',\n",
       " 'https://www.lyricsfreak.com/b/beatles/a+day+in+the+life_10026556.html',\n",
       " 'https://www.lyricsfreak.com/b/beatles/a+hard+days+night_10026465.html',\n",
       " 'https://www.lyricsfreak.com/b/beatles/a+little+rhyme_20679608.html',\n",
       " 'https://www.lyricsfreak.com/b/beatles/a+shot+of+rhythm+blues_20014867.html']"
      ]
     },
     "execution_count": 71,
     "metadata": {},
     "output_type": "execute_result"
    }
   ],
   "source": [
    "song_links[0:5]"
   ]
  },
  {
   "cell_type": "code",
   "execution_count": 80,
   "metadata": {},
   "outputs": [],
   "source": [
    "import numpy as np\n",
    "song_links = np.array(song_links)\n",
    "np.savez(\"songs_links\", song_links)"
   ]
  },
  {
   "cell_type": "code",
   "execution_count": null,
   "metadata": {},
   "outputs": [],
   "source": []
  }
 ],
 "metadata": {
  "kernelspec": {
   "display_name": "Python 3",
   "language": "python",
   "name": "python3"
  },
  "language_info": {
   "codemirror_mode": {
    "name": "ipython",
    "version": 3
   },
   "file_extension": ".py",
   "mimetype": "text/x-python",
   "name": "python",
   "nbconvert_exporter": "python",
   "pygments_lexer": "ipython3",
   "version": "3.7.6"
  }
 },
 "nbformat": 4,
 "nbformat_minor": 4
}
